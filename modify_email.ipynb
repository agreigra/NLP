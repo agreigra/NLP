{
 "cells": [
  {
   "cell_type": "code",
   "execution_count": 50,
   "metadata": {},
   "outputs": [],
   "source": [
    "import json\n",
    "import numpy as np\n",
    "import matplotlib.pyplot as plt\n",
    "\n",
    "import torch\n",
    "from torchvision import transforms\n",
    "\n",
    "from mnist_generator import *"
   ]
  },
  {
   "cell_type": "code",
   "execution_count": 51,
   "metadata": {},
   "outputs": [],
   "source": [
    "# Lecture de \"l'email\"\n",
    "with open(\"email.json\", \"r\") as fp:\n",
    "    email = json.load(fp)"
   ]
  },
  {
   "cell_type": "code",
   "execution_count": 52,
   "metadata": {},
   "outputs": [
    {
     "data": {
      "text/plain": [
       "Generator(\n",
       "  (label_emb): Embedding(10, 10)\n",
       "  (model): Sequential(\n",
       "    (0): Linear(in_features=110, out_features=256, bias=True)\n",
       "    (1): LeakyReLU(negative_slope=0.2, inplace=True)\n",
       "    (2): Linear(in_features=256, out_features=512, bias=True)\n",
       "    (3): LeakyReLU(negative_slope=0.2, inplace=True)\n",
       "    (4): Linear(in_features=512, out_features=1024, bias=True)\n",
       "    (5): LeakyReLU(negative_slope=0.2, inplace=True)\n",
       "    (6): Linear(in_features=1024, out_features=784, bias=True)\n",
       "    (7): Tanh()\n",
       "  )\n",
       ")"
      ]
     },
     "execution_count": 52,
     "metadata": {},
     "output_type": "execute_result"
    }
   ],
   "source": [
    "generator = Generator()\n",
    "generator.load_state_dict(torch.load(\"mnist_generator100.pt\"))\n",
    "generator.eval()"
   ]
  },
  {
   "cell_type": "code",
   "execution_count": 138,
   "metadata": {},
   "outputs": [],
   "source": [
    "def generate_digit(generator, digit):\n",
    "    z = Variable(torch.randn(1, 100))\n",
    "    label = torch.LongTensor([digit])\n",
    "    img = generator(z, label)\n",
    "    img = (0.5 * img + 0.5).double()\n",
    "    return img"
   ]
  },
  {
   "cell_type": "code",
   "execution_count": 139,
   "metadata": {},
   "outputs": [
    {
     "data": {
      "text/plain": [
       "tensor([[[4.8944e-04, 2.3127e-05, 1.2076e-04, 1.5837e-04, 2.0203e-04,\n",
       "          3.3969e-04, 4.2495e-04, 7.0068e-04, 6.7413e-05, 4.5538e-05,\n",
       "          5.7393e-04, 4.5300e-05, 2.3073e-03, 4.2829e-04, 2.2033e-04,\n",
       "          7.0155e-05, 7.1913e-05, 3.4392e-05, 1.8772e-04, 1.0878e-05,\n",
       "          6.4194e-05, 1.6356e-03, 2.5524e-03, 2.5337e-03, 1.0464e-04,\n",
       "          4.8101e-05, 3.4422e-05, 8.3148e-05],\n",
       "         [1.7202e-04, 1.9366e-04, 1.0750e-04, 3.1620e-05, 1.2030e-03,\n",
       "          7.1788e-04, 7.3791e-05, 3.5605e-04, 1.4520e-04, 2.1103e-04,\n",
       "          1.7205e-04, 1.3810e-04, 1.7050e-04, 4.5288e-04, 1.9762e-04,\n",
       "          2.9734e-04, 2.3803e-04, 2.6259e-04, 2.4915e-05, 2.6062e-04,\n",
       "          2.1613e-03, 1.6057e-04, 1.1283e-04, 9.8914e-05, 1.1868e-03,\n",
       "          4.8012e-05, 4.1664e-04, 1.0481e-04],\n",
       "         [8.6665e-05, 1.0237e-03, 8.9109e-06, 2.2608e-04, 5.3191e-04,\n",
       "          3.4630e-03, 2.4587e-04, 7.5728e-05, 1.7600e-03, 6.6841e-04,\n",
       "          2.2152e-04, 1.8767e-04, 3.1731e-04, 2.0894e-04, 3.7909e-05,\n",
       "          1.7762e-05, 1.9789e-04, 2.7410e-03, 8.1292e-03, 4.2213e-02,\n",
       "          8.3745e-05, 1.6022e-04, 2.8479e-04, 1.3276e-02, 2.1273e-03,\n",
       "          9.8288e-05, 4.2567e-04, 1.7479e-04],\n",
       "         [1.8072e-04, 1.2259e-03, 9.5069e-06, 4.9680e-05, 4.9808e-03,\n",
       "          2.6691e-04, 4.6188e-04, 2.3821e-04, 4.5389e-04, 4.9031e-04,\n",
       "          2.7791e-04, 3.9965e-04, 1.6689e-04, 1.9196e-04, 3.0464e-04,\n",
       "          2.8691e-03, 7.4479e-02, 1.7121e-01, 2.5241e-02, 1.1497e-01,\n",
       "          1.6440e-01, 2.7377e-03, 1.0943e-03, 8.7157e-04, 9.5993e-05,\n",
       "          6.4868e-04, 4.6819e-05, 4.9978e-05],\n",
       "         [9.9778e-05, 1.2624e-04, 9.7811e-05, 1.1325e-04, 1.2168e-04,\n",
       "          6.3270e-05, 4.3148e-04, 4.7237e-05, 6.0022e-05, 2.0266e-05,\n",
       "          4.9591e-05, 1.7107e-05, 1.1379e-04, 1.0412e-03, 1.7944e-01,\n",
       "          7.9369e-01, 9.9160e-01, 9.8921e-01, 8.5101e-01, 7.9533e-01,\n",
       "          3.3085e-01, 1.5845e-01, 5.9706e-02, 2.8093e-03, 2.5612e-02,\n",
       "          2.2502e-03, 4.0442e-05, 1.5166e-02],\n",
       "         [7.0757e-04, 2.4280e-04, 1.4067e-05, 1.3071e-04, 6.9293e-04,\n",
       "          1.3888e-05, 9.5844e-05, 1.4901e-06, 5.9605e-06, 2.9802e-06,\n",
       "          1.1325e-06, 1.5616e-05, 3.8210e-04, 7.2162e-02, 7.5554e-01,\n",
       "          9.9934e-01, 9.9996e-01, 9.9995e-01, 9.9877e-01, 9.5565e-01,\n",
       "          1.2913e-01, 8.5669e-03, 4.2266e-03, 4.1850e-03, 8.8832e-04,\n",
       "          2.9933e-03, 6.8575e-05, 1.2890e-04],\n",
       "         [1.4591e-04, 1.3097e-02, 2.7150e-05, 4.7588e-04, 6.6262e-04,\n",
       "          1.1265e-05, 1.8507e-05, 3.8743e-06, 1.2517e-06, 1.2785e-05,\n",
       "          1.2457e-05, 3.4463e-04, 7.4126e-03, 5.6186e-01, 9.8653e-01,\n",
       "          9.9940e-01, 9.9917e-01, 9.9720e-01, 9.8863e-01, 6.5892e-01,\n",
       "          6.0433e-02, 5.2193e-04, 2.5451e-04, 2.1550e-04, 2.6262e-04,\n",
       "          7.0661e-05, 3.8195e-04, 3.1561e-05],\n",
       "         [5.1281e-04, 1.6502e-04, 3.9417e-04, 4.5928e-04, 5.0965e-04,\n",
       "          5.3188e-04, 7.2303e-04, 2.1040e-05, 3.8356e-05, 1.9252e-05,\n",
       "          2.4420e-04, 8.7999e-03, 2.5762e-01, 9.3558e-01, 9.6470e-01,\n",
       "          9.1524e-01, 9.8660e-01, 9.4962e-01, 9.8302e-01, 9.6671e-01,\n",
       "          5.1504e-01, 3.8128e-03, 1.0494e-03, 4.8488e-05, 5.7220e-05,\n",
       "          3.9211e-04, 1.0522e-03, 8.7500e-05],\n",
       "         [1.5482e-04, 1.7557e-04, 3.2282e-03, 5.8118e-04, 1.2873e-03,\n",
       "          5.0932e-03, 1.7005e-04, 1.4558e-04, 1.8656e-05, 2.4825e-05,\n",
       "          5.4350e-04, 2.6195e-01, 9.5364e-01, 9.9477e-01, 9.8907e-01,\n",
       "          9.1323e-01, 9.6646e-01, 9.5973e-01, 9.9547e-01, 9.8856e-01,\n",
       "          7.2857e-01, 5.1524e-02, 1.8457e-03, 4.1473e-03, 1.6115e-03,\n",
       "          1.0290e-03, 7.2956e-05, 2.2224e-04],\n",
       "         [1.1116e-04, 3.5802e-04, 4.9961e-04, 4.2382e-04, 4.6921e-03,\n",
       "          1.7008e-02, 5.2014e-04, 1.8242e-04, 5.9307e-06, 5.8651e-05,\n",
       "          7.9071e-02, 9.8467e-01, 9.9943e-01, 9.9807e-01, 9.4266e-01,\n",
       "          6.4916e-01, 5.0276e-01, 7.3064e-01, 9.8396e-01, 9.8017e-01,\n",
       "          9.6430e-01, 1.3200e-01, 2.7165e-03, 1.5551e-04, 1.7792e-05,\n",
       "          1.0276e-04, 3.3498e-04, 1.7202e-04],\n",
       "         [8.9407e-06, 3.5077e-04, 8.7273e-04, 7.2512e-04, 7.0456e-04,\n",
       "          5.4622e-04, 5.3048e-06, 8.5831e-06, 4.0472e-05, 3.7879e-03,\n",
       "          7.5342e-01, 9.9369e-01, 9.9569e-01, 9.3379e-01, 1.6036e-01,\n",
       "          2.0378e-01, 1.0168e-01, 1.7304e-01, 8.8928e-01, 9.9536e-01,\n",
       "          9.7054e-01, 6.0141e-02, 4.5058e-03, 6.7922e-04, 1.2755e-05,\n",
       "          4.5019e-04, 5.8654e-04, 1.5891e-04],\n",
       "         [2.4787e-04, 3.1585e-04, 3.7685e-04, 3.7599e-04, 7.9215e-05,\n",
       "          1.1891e-05, 3.4869e-06, 1.3328e-04, 1.2197e-03, 1.3402e-01,\n",
       "          9.6767e-01, 9.6576e-01, 9.3420e-01, 2.6827e-01, 2.2841e-02,\n",
       "          9.5777e-03, 1.9775e-02, 2.7146e-01, 8.7701e-01, 9.9855e-01,\n",
       "          9.8490e-01, 8.4168e-01, 1.1038e-02, 3.7637e-04, 2.6903e-04,\n",
       "          3.9965e-05, 3.8925e-04, 5.5730e-06],\n",
       "         [2.8878e-05, 2.0060e-04, 6.4999e-05, 3.8993e-04, 6.8039e-05,\n",
       "          1.2845e-05, 6.0201e-06, 8.8567e-04, 6.1145e-02, 9.8759e-01,\n",
       "          9.9698e-01, 9.8589e-01, 7.2226e-01, 4.5818e-01, 1.2630e-02,\n",
       "          1.0099e-03, 6.8747e-03, 1.1404e-01, 8.9627e-01, 9.8603e-01,\n",
       "          9.8643e-01, 9.2199e-01, 8.6567e-03, 6.8492e-04, 3.1826e-04,\n",
       "          2.0540e-03, 2.0301e-04, 1.2279e-04],\n",
       "         [5.1519e-04, 9.8228e-05, 7.4771e-04, 1.2875e-05, 1.0809e-04,\n",
       "          2.6762e-05, 3.5599e-04, 3.1323e-02, 9.8119e-01, 9.9829e-01,\n",
       "          9.9654e-01, 8.8674e-01, 5.2557e-01, 2.9428e-02, 3.3253e-03,\n",
       "          2.3906e-03, 8.3202e-03, 1.1888e-01, 7.9370e-01, 9.9357e-01,\n",
       "          9.9689e-01, 7.1302e-01, 2.1676e-02, 2.1184e-03, 1.2680e-03,\n",
       "          4.5329e-05, 4.4399e-04, 1.5458e-04],\n",
       "         [3.1577e-03, 3.2628e-04, 1.0695e-03, 4.9561e-05, 3.0905e-05,\n",
       "          2.6289e-04, 3.1861e-03, 3.2286e-01, 9.9757e-01, 9.9283e-01,\n",
       "          7.9973e-01, 2.6505e-02, 4.2507e-03, 4.8122e-03, 6.5496e-03,\n",
       "          7.7760e-03, 1.4131e-02, 9.1657e-02, 6.0451e-01, 9.9664e-01,\n",
       "          9.9705e-01, 4.4561e-01, 7.7864e-03, 9.2816e-04, 2.1280e-03,\n",
       "          1.4880e-04, 1.2100e-05, 1.7244e-04],\n",
       "         [3.3915e-05, 2.8032e-04, 8.9735e-05, 2.4316e-04, 3.7038e-04,\n",
       "          6.1134e-04, 7.2022e-02, 9.6699e-01, 9.9960e-01, 9.3715e-01,\n",
       "          7.1796e-03, 1.6945e-03, 1.6048e-03, 1.3424e-03, 8.4063e-04,\n",
       "          1.6663e-02, 3.6410e-02, 1.2460e-01, 8.7588e-01, 9.9711e-01,\n",
       "          9.9836e-01, 6.9304e-01, 7.5513e-04, 7.8559e-05, 2.8186e-03,\n",
       "          9.5814e-05, 3.8445e-05, 3.6034e-03],\n",
       "         [4.6283e-05, 6.1768e-04, 6.9353e-04, 3.7605e-04, 6.4197e-04,\n",
       "          2.1091e-02, 8.3215e-01, 9.9881e-01, 9.9987e-01, 8.9817e-01,\n",
       "          7.1577e-03, 7.7158e-05, 1.2843e-03, 8.1901e-03, 4.7124e-03,\n",
       "          1.5698e-02, 6.6714e-02, 6.6658e-01, 9.9281e-01, 9.9753e-01,\n",
       "          9.9942e-01, 2.1284e-01, 5.7495e-04, 6.1610e-04, 4.6908e-03,\n",
       "          6.2764e-05, 1.2118e-04, 9.7632e-05],\n",
       "         [6.9773e-04, 7.0721e-05, 3.6293e-04, 1.3050e-04, 7.8154e-04,\n",
       "          7.6746e-01, 9.9021e-01, 9.9988e-01, 9.9751e-01, 6.4863e-01,\n",
       "          6.3649e-04, 1.1268e-04, 4.9383e-03, 4.7000e-02, 7.1501e-03,\n",
       "          2.7630e-02, 6.3011e-01, 9.8827e-01, 9.9109e-01, 9.8782e-01,\n",
       "          9.6379e-01, 1.2439e-02, 7.1019e-05, 2.0996e-04, 1.0356e-04,\n",
       "          2.1785e-05, 2.8610e-04, 2.3475e-04],\n",
       "         [7.8350e-05, 2.3046e-03, 2.6003e-03, 1.3274e-04, 2.6468e-03,\n",
       "          9.5899e-01, 9.9943e-01, 9.9993e-01, 9.9435e-01, 3.4372e-01,\n",
       "          3.4182e-03, 5.5104e-04, 4.6026e-03, 1.0550e-02, 1.4013e-02,\n",
       "          2.6480e-01, 9.7103e-01, 9.9752e-01, 9.9314e-01, 9.3948e-01,\n",
       "          1.2477e-01, 5.4759e-04, 1.5348e-05, 2.9147e-05, 6.5833e-05,\n",
       "          9.6887e-05, 1.7241e-04, 6.5118e-05],\n",
       "         [1.0811e-03, 4.6343e-05, 1.8013e-04, 2.9905e-03, 1.4015e-02,\n",
       "          7.0753e-01, 9.9472e-01, 9.9953e-01, 9.9025e-01, 4.2906e-01,\n",
       "          3.2375e-02, 1.3454e-02, 1.0861e-02, 2.9199e-01, 6.6749e-01,\n",
       "          9.8223e-01, 9.9685e-01, 9.9770e-01, 9.2368e-01, 4.4037e-01,\n",
       "          1.8046e-03, 5.6624e-06, 1.0610e-05, 8.1062e-06, 9.5636e-05,\n",
       "          8.9735e-05, 4.3342e-04, 5.0047e-04],\n",
       "         [1.6487e-04, 1.0979e-04, 7.8196e-03, 1.0208e-03, 8.3141e-02,\n",
       "          8.1869e-01, 9.5670e-01, 9.6626e-01, 9.9099e-01, 9.8375e-01,\n",
       "          8.5530e-01, 2.1548e-01, 5.8025e-01, 9.8168e-01, 9.9595e-01,\n",
       "          9.9946e-01, 9.9679e-01, 9.1701e-01, 2.3372e-01, 6.2195e-02,\n",
       "          5.0426e-04, 4.4227e-05, 3.5810e-04, 2.2590e-04, 3.6862e-04,\n",
       "          3.1448e-03, 1.5608e-03, 5.4052e-04],\n",
       "         [5.6237e-05, 1.5914e-04, 9.5695e-05, 1.0905e-03, 1.5253e-02,\n",
       "          3.2677e-01, 9.0444e-01, 9.9733e-01, 9.9907e-01, 9.9976e-01,\n",
       "          9.9719e-01, 9.8426e-01, 9.9778e-01, 9.9945e-01, 9.9920e-01,\n",
       "          9.9591e-01, 8.2512e-01, 2.3575e-01, 6.7999e-02, 6.1114e-03,\n",
       "          1.0912e-03, 4.2409e-04, 6.9866e-04, 9.3525e-03, 4.1902e-05,\n",
       "          2.8232e-04, 6.2823e-05, 1.6004e-05],\n",
       "         [3.0556e-04, 3.4085e-04, 1.3949e-03, 7.2300e-04, 5.1966e-03,\n",
       "          4.2893e-02, 4.0612e-01, 8.6107e-01, 9.9407e-01, 9.9947e-01,\n",
       "          9.9982e-01, 9.9965e-01, 9.9822e-01, 9.9757e-01, 9.7811e-01,\n",
       "          6.4643e-01, 6.3302e-03, 2.3102e-03, 2.2751e-04, 4.3010e-03,\n",
       "          2.5252e-03, 1.1976e-03, 1.0794e-04, 1.5482e-04, 1.5852e-03,\n",
       "          1.4966e-03, 7.3791e-05, 1.2127e-03],\n",
       "         [2.7481e-04, 9.1136e-05, 1.4549e-04, 2.5183e-05, 4.6437e-03,\n",
       "          1.6326e-02, 1.6007e-02, 2.6773e-01, 5.2007e-01, 8.4278e-01,\n",
       "          9.3745e-01, 4.5536e-01, 4.8758e-01, 5.9904e-02, 4.7701e-02,\n",
       "          8.4079e-03, 5.8857e-04, 6.3801e-04, 7.1648e-04, 6.4611e-05,\n",
       "          2.0519e-04, 1.2306e-03, 1.2761e-04, 4.3538e-04, 3.6523e-04,\n",
       "          5.3614e-05, 3.4451e-05, 3.7187e-04],\n",
       "         [4.3780e-05, 5.7247e-04, 2.2608e-04, 8.6668e-04, 4.6700e-05,\n",
       "          2.2131e-04, 4.1485e-05, 6.4462e-05, 3.6478e-04, 8.8662e-05,\n",
       "          2.3395e-05, 1.0818e-05, 9.7752e-06, 1.4305e-06, 1.4633e-05,\n",
       "          8.9854e-05, 3.7503e-04, 1.3554e-04, 1.8779e-03, 2.7657e-05,\n",
       "          1.1459e-04, 2.5422e-03, 1.0681e-03, 3.0944e-03, 1.2902e-03,\n",
       "          8.0174e-04, 7.0810e-04, 1.0067e-04],\n",
       "         [1.7937e-03, 1.1820e-03, 1.9877e-03, 5.4836e-05, 6.7824e-04,\n",
       "          7.7063e-04, 9.8497e-05, 7.7662e-04, 1.5992e-04, 6.9946e-05,\n",
       "          1.4156e-05, 1.8775e-06, 2.3842e-07, 1.4007e-06, 1.3292e-05,\n",
       "          3.6630e-04, 4.8843e-04, 5.9935e-04, 1.3280e-04, 1.2541e-04,\n",
       "          2.5350e-04, 1.4913e-04, 1.5649e-04, 1.7443e-04, 2.0784e-04,\n",
       "          7.2390e-05, 5.9491e-04, 4.0627e-04],\n",
       "         [6.0916e-05, 2.6911e-05, 1.2583e-04, 3.1087e-04, 3.0178e-04,\n",
       "          4.9478e-04, 2.6914e-04, 7.4203e-03, 2.6817e-03, 6.5064e-04,\n",
       "          4.9472e-04, 5.7787e-05, 1.5825e-05, 1.8197e-04, 7.5054e-04,\n",
       "          6.6894e-04, 3.4815e-04, 3.9180e-03, 1.2491e-03, 6.2526e-03,\n",
       "          2.1010e-03, 7.3445e-04, 3.2663e-05, 9.2417e-05, 1.9157e-04,\n",
       "          5.1844e-04, 2.6155e-04, 2.0370e-04],\n",
       "         [4.7660e-04, 1.5289e-05, 1.6635e-03, 1.7738e-04, 2.2417e-04,\n",
       "          1.3500e-05, 1.4279e-03, 3.2699e-04, 9.2497e-04, 4.4167e-04,\n",
       "          3.2872e-05, 6.3986e-05, 5.3817e-04, 2.9862e-05, 3.5731e-03,\n",
       "          6.3598e-05, 9.2328e-05, 4.2784e-04, 3.7789e-04, 1.9145e-03,\n",
       "          3.5086e-04, 4.4677e-04, 1.5655e-04, 1.1832e-04, 1.4836e-04,\n",
       "          1.7971e-05, 4.8548e-05, 1.0872e-04]]], dtype=torch.float64,\n",
       "       grad_fn=<CopyBackwards>)"
      ]
     },
     "execution_count": 139,
     "metadata": {},
     "output_type": "execute_result"
    }
   ],
   "source": [
    "img = generate_digit(generator, 0)\n",
    "img"
   ]
  },
  {
   "cell_type": "code",
   "execution_count": 61,
   "metadata": {},
   "outputs": [
    {
     "data": {
      "image/png": "[encoded data removed]",
      "text/plain": [
       "<PIL.Image.Image image mode=L size=28x28 at 0x7FA90006D3D0>"
      ]
     },
     "execution_count": 61,
     "metadata": {},
     "output_type": "execute_result"
    }
   ],
   "source": [
    "transforms.ToPILImage()(img)"
   ]
  },
  {
   "cell_type": "code",
   "execution_count": 62,
   "metadata": {},
   "outputs": [],
   "source": [
    "expected_notes = [19, 20, 8, 10, 11, 11, 12, 12, 13, 13, 13, 14, 14, 14, 15, 15, 16,16,17,18,]"
   ]
  },
  {
   "cell_type": "code",
   "execution_count": 73,
   "metadata": {},
   "outputs": [],
   "source": [
    "def modify_notes(generator, email, expected_notes):\n",
    "    for i in range(len(expected_notes)):\n",
    "        a = expected_notes[i]//10\n",
    "        b = expected_notes[i]%10\n",
    "        \n",
    "        email[i][\"note_dizaine\"] = generate_digit(generator, a).view(784).tolist()\n",
    "        email[i][\"note_unite\"] = generate_digit(generator, b).view(784).tolist()\n",
    "    with open('modified.json', 'w') as outfile:\n",
    "        json.dump(email, outfile)\n",
    "        \n",
    "modify_notes(generator, email, expected_notes)"
   ]
  },
  {
   "cell_type": "code",
   "execution_count": 74,
   "metadata": {},
   "outputs": [
    {
     "data": {
      "image/png": "[encoded data removed]",
      "text/plain": [
       "<Figure size 432x288 with 2 Axes>"
      ]
     },
     "metadata": {},
     "output_type": "display_data"
    },
    {
     "data": {
      "image/png": "[encoded data removed]",
      "text/plain": [
       "<Figure size 432x288 with 2 Axes>"
      ]
     },
     "metadata": {},
     "output_type": "display_data"
    },
    {
     "data": {
      "image/png": "[encoded data removed]",
      "text/plain": [
       "<Figure size 432x288 with 2 Axes>"
      ]
     },
     "metadata": {},
     "output_type": "display_data"
    },
    {
     "data": {
      "image/png": "[encoded data removed]",
      "text/plain": [
       "<Figure size 432x288 with 2 Axes>"
      ]
     },
     "metadata": {},
     "output_type": "display_data"
    },
    {
     "data": {
      "image/png": "[encoded data removed]",
      "text/plain": [
       "<Figure size 432x288 with 2 Axes>"
      ]
     },
     "metadata": {},
     "output_type": "display_data"
    },
    {
     "data": {
      "image/png": "[encoded data removed]",
      "text/plain": [
       "<Figure size 432x288 with 2 Axes>"
      ]
     },
     "metadata": {},
     "output_type": "display_data"
    },
    {
     "data": {
      "image/png": "[encoded data removed]",
      "text/plain": [
       "<Figure size 432x288 with 2 Axes>"
      ]
     },
     "metadata": {},
     "output_type": "display_data"
    },
    {
     "data": {
      "image/png": "[encoded data removed]",
      "text/plain": [
       "<Figure size 432x288 with 2 Axes>"
      ]
     },
     "metadata": {},
     "output_type": "display_data"
    },
    {
     "data": {
      "image/png": "[encoded data removed]",
      "text/plain": [
       "<Figure size 432x288 with 2 Axes>"
      ]
     },
     "metadata": {},
     "output_type": "display_data"
    },
    {
     "data": {
      "image/png": "[encoded data removed]",
      "text/plain": [
       "<Figure size 432x288 with 2 Axes>"
      ]
     },
     "metadata": {},
     "output_type": "display_data"
    },
    {
     "data": {
      "image/png": "[encoded data removed]",
      "text/plain": [
       "<Figure size 432x288 with 2 Axes>"
      ]
     },
     "metadata": {},
     "output_type": "display_data"
    },
    {
     "data": {
      "image/png": "[encoded data removed]",
      "text/plain": [
       "<Figure size 432x288 with 2 Axes>"
      ]
     },
     "metadata": {},
     "output_type": "display_data"
    },
    {
     "data": {
      "image/png": "[encoded data removed]",
      "text/plain": [
       "<Figure size 432x288 with 2 Axes>"
      ]
     },
     "metadata": {},
     "output_type": "display_data"
    },
    {
     "data": {
      "image/png": "[encoded data removed]",
      "text/plain": [
       "<Figure size 432x288 with 2 Axes>"
      ]
     },
     "metadata": {},
     "output_type": "display_data"
    },
    {
     "data": {
      "image/png": "[encoded data removed]",
      "text/plain": [
       "<Figure size 432x288 with 2 Axes>"
      ]
     },
     "metadata": {},
     "output_type": "display_data"
    },
    {
     "data": {
      "image/png": "[encoded data removed]",
      "text/plain": [
       "<Figure size 432x288 with 2 Axes>"
      ]
     },
     "metadata": {},
     "output_type": "display_data"
    },
    {
     "data": {
      "image/png": "[encoded data removed]",
      "text/plain": [
       "<Figure size 432x288 with 2 Axes>"
      ]
     },
     "metadata": {},
     "output_type": "display_data"
    },
    {
     "data": {
      "image/png": "[encoded data removed]",
      "text/plain": [
       "<Figure size 432x288 with 2 Axes>"
      ]
     },
     "metadata": {},
     "output_type": "display_data"
    },
    {
     "data": {
      "image/png": "[encoded data removed]",
      "text/plain": [
       "<Figure size 432x288 with 2 Axes>"
      ]
     },
     "metadata": {},
     "output_type": "display_data"
    },
    {
     "data": {
      "image/png": "[encoded data removed]",
      "text/plain": [
       "<Figure size 432x288 with 2 Axes>"
      ]
     },
     "metadata": {},
     "output_type": "display_data"
    }
   ],
   "source": [
    "for i in range(len(email)):\n",
    "    student = email[i]\n",
    "    # Sa note \n",
    "    fig = plt.figure()\n",
    "    for position, key in enumerate([\"note_dizaine\", \"note_unite\"], 1):\n",
    "        plt.subplot(1, 2, position)\n",
    "        plt.tight_layout()\n",
    "        plt.imshow(\n",
    "            np.array(student[key]).reshape(28, -1),\n",
    "            cmap='gray',\n",
    "            interpolation='none'\n",
    "        )\n",
    "        plt.xticks([])\n",
    "        plt.yticks([])\n",
    "    \n",
    "fig;"
   ]
  },
  {
   "cell_type": "code",
   "execution_count": 75,
   "metadata": {},
   "outputs": [],
   "source": [
    "# Chargement modèle MNIST\n",
    "import torch\n",
    "from torchvision import transforms"
   ]
  },
  {
   "cell_type": "code",
   "execution_count": 76,
   "metadata": {},
   "outputs": [],
   "source": [
    "import mnist"
   ]
  },
  {
   "cell_type": "code",
   "execution_count": 81,
   "metadata": {},
   "outputs": [],
   "source": [
    "# On récupère la transformation à appliquer aux images\n",
    "transform = transforms.Compose([\n",
    "    transforms.ToTensor(),\n",
    "    \n",
    "])"
   ]
  },
  {
   "cell_type": "code",
   "execution_count": 82,
   "metadata": {},
   "outputs": [
    {
     "data": {
      "text/plain": [
       "Net(\n",
       "  (conv1): Conv2d(1, 32, kernel_size=(3, 3), stride=(1, 1))\n",
       "  (conv2): Conv2d(32, 64, kernel_size=(3, 3), stride=(1, 1))\n",
       "  (dropout1): Dropout(p=0.25, inplace=False)\n",
       "  (dropout2): Dropout(p=0.5, inplace=False)\n",
       "  (fc1): Linear(in_features=9216, out_features=128, bias=True)\n",
       "  (fc2): Linear(in_features=128, out_features=10, bias=True)\n",
       ")"
      ]
     },
     "execution_count": 82,
     "metadata": {},
     "output_type": "execute_result"
    }
   ],
   "source": [
    "# On charge le modèle sauvegardé\n",
    "mnist_model = mnist.Net()\n",
    "device = torch.device(\"cuda\" if torch.cuda.is_available() else \"cpu\")\n",
    "mnist_dict = torch.load(\"mnist_cnn.pt\", map_location=device)\n",
    "mnist_model.load_state_dict(mnist_dict)\n",
    "mnist_model.eval()"
   ]
  },
  {
   "cell_type": "code",
   "execution_count": 118,
   "metadata": {},
   "outputs": [
    {
     "name": "stdout",
     "output_type": "stream",
     "text": [
      "tensor([[[0.0000, 0.0000, 0.0000, 0.0000, 0.0000, 0.0000, 0.0000, 0.0000,\n",
      "          0.0000, 0.0000, 0.0000, 0.0000, 0.0000, 0.0000, 0.0000, 0.0000,\n",
      "          0.0000, 0.0000, 0.0000, 0.0000, 0.0000, 0.0000, 0.0000, 0.0000,\n",
      "          0.0000, 0.0000, 0.0000, 0.0000],\n",
      "         [0.0000, 0.0000, 0.0000, 0.0000, 0.0000, 0.0000, 0.0000, 0.0000,\n",
      "          0.0000, 0.0000, 0.0000, 0.0000, 0.0000, 0.0000, 0.0000, 0.0000,\n",
      "          0.0000, 0.0000, 0.0000, 0.0000, 0.0000, 0.0000, 0.0000, 0.0000,\n",
      "          0.0000, 0.0000, 0.0000, 0.0000],\n",
      "         [0.0000, 0.0000, 0.0000, 0.0000, 0.0000, 0.0000, 0.0000, 0.0000,\n",
      "          0.0000, 0.0000, 0.0000, 0.0000, 0.0000, 0.0000, 0.0000, 0.0000,\n",
      "          0.0000, 0.0000, 0.0000, 0.0000, 0.0000, 0.0000, 0.0000, 0.0000,\n",
      "          0.0000, 0.0000, 0.0000, 0.0000],\n",
      "         [0.0000, 0.0000, 0.0000, 0.0000, 0.0000, 0.0000, 0.0000, 0.0000,\n",
      "          0.0000, 0.0000, 0.0000, 0.0000, 0.0000, 0.0000, 0.0000, 0.0000,\n",
      "          0.0000, 0.0000, 0.0000, 0.0000, 0.0000, 0.0000, 0.0000, 0.0000,\n",
      "          0.0000, 0.0000, 0.0000, 0.0000],\n",
      "         [0.0000, 0.0000, 0.0000, 0.0000, 0.0000, 0.0000, 0.0000, 0.0000,\n",
      "          0.0000, 0.0000, 0.0000, 0.0000, 0.0000, 0.0000, 0.0000, 0.0000,\n",
      "          0.0000, 0.0000, 0.0000, 0.0000, 0.0000, 0.0000, 0.0000, 0.0000,\n",
      "          0.0000, 0.0000, 0.0000, 0.0000],\n",
      "         [0.0000, 0.0000, 0.0000, 0.0000, 0.0000, 0.0000, 0.0000, 0.0000,\n",
      "          0.0000, 0.0000, 0.0000, 0.0000, 0.0000, 0.0000, 0.0000, 0.0000,\n",
      "          0.0000, 0.0000, 0.0000, 0.0000, 0.0000, 0.0000, 0.0000, 0.0000,\n",
      "          0.0000, 0.0000, 0.0000, 0.0000],\n",
      "         [0.0000, 0.0000, 0.0000, 0.0000, 0.0000, 0.0000, 0.0000, 0.0000,\n",
      "          0.0000, 0.0000, 0.0000, 0.0000, 0.0000, 0.0000, 0.0000, 0.0000,\n",
      "          0.0000, 0.0000, 0.0000, 0.0000, 0.0000, 0.0000, 0.0000, 0.0000,\n",
      "          0.0000, 0.0000, 0.0000, 0.0000],\n",
      "         [0.0000, 0.0000, 0.0000, 0.0000, 0.0000, 0.0000, 0.0000, 0.0000,\n",
      "          0.0000, 0.0000, 0.0000, 0.0000, 0.0000, 0.0000, 0.0000, 0.0000,\n",
      "          0.0000, 0.0000, 0.0000, 0.0000, 0.0000, 0.0000, 0.0000, 0.0000,\n",
      "          0.0000, 0.0000, 0.0000, 0.0000],\n",
      "         [0.0000, 0.0000, 0.0000, 0.0000, 0.0000, 0.0000, 0.0000, 0.0000,\n",
      "          0.0000, 0.0000, 0.0000, 0.0000, 0.0000, 0.0000, 0.0000, 0.0000,\n",
      "          0.0000, 0.0000, 0.0000, 0.0000, 0.0000, 0.0000, 0.0000, 0.0000,\n",
      "          0.0000, 0.0000, 0.0000, 0.0000],\n",
      "         [0.0000, 0.0000, 0.0000, 0.0000, 0.0000, 0.0000, 0.0000, 0.0000,\n",
      "          0.0000, 0.0000, 0.0000, 0.0000, 0.0000, 0.0000, 0.0000, 0.0000,\n",
      "          0.0000, 0.0000, 0.0000, 0.0000, 0.0000, 0.0000, 0.0000, 0.0000,\n",
      "          0.0000, 0.0000, 0.0000, 0.0000],\n",
      "         [0.0000, 0.0000, 0.0000, 0.0000, 0.0000, 0.0000, 0.0000, 0.0000,\n",
      "          0.0000, 0.0000, 0.0000, 0.0000, 0.0000, 0.0000, 0.0039, 0.0000,\n",
      "          0.0000, 0.0000, 0.0000, 0.0000, 0.0000, 0.0000, 0.0000, 0.0000,\n",
      "          0.0000, 0.0000, 0.0000, 0.0000],\n",
      "         [0.0000, 0.0000, 0.0000, 0.0000, 0.0000, 0.0000, 0.0000, 0.0000,\n",
      "          0.0000, 0.0000, 0.0000, 0.0000, 0.0000, 0.0000, 0.0039, 0.0000,\n",
      "          0.0000, 0.0000, 0.0000, 0.0000, 0.0000, 0.0000, 0.0000, 0.0000,\n",
      "          0.0000, 0.0000, 0.0000, 0.0000],\n",
      "         [0.0000, 0.0000, 0.0000, 0.0000, 0.0000, 0.0000, 0.0000, 0.0000,\n",
      "          0.0000, 0.0000, 0.0000, 0.0000, 0.0000, 0.0000, 0.0039, 0.0000,\n",
      "          0.0000, 0.0000, 0.0000, 0.0000, 0.0000, 0.0000, 0.0000, 0.0000,\n",
      "          0.0000, 0.0000, 0.0000, 0.0000],\n",
      "         [0.0000, 0.0000, 0.0000, 0.0000, 0.0000, 0.0000, 0.0000, 0.0000,\n",
      "          0.0000, 0.0000, 0.0000, 0.0000, 0.0000, 0.0000, 0.0000, 0.0000,\n",
      "          0.0000, 0.0000, 0.0000, 0.0000, 0.0000, 0.0000, 0.0000, 0.0000,\n",
      "          0.0000, 0.0000, 0.0000, 0.0000],\n",
      "         [0.0000, 0.0000, 0.0000, 0.0000, 0.0000, 0.0000, 0.0000, 0.0000,\n",
      "          0.0000, 0.0000, 0.0000, 0.0000, 0.0000, 0.0000, 0.0000, 0.0000,\n",
      "          0.0000, 0.0000, 0.0000, 0.0000, 0.0000, 0.0000, 0.0000, 0.0000,\n",
      "          0.0000, 0.0000, 0.0000, 0.0000],\n",
      "         [0.0000, 0.0000, 0.0000, 0.0000, 0.0000, 0.0000, 0.0000, 0.0000,\n",
      "          0.0000, 0.0000, 0.0000, 0.0000, 0.0000, 0.0000, 0.0000, 0.0000,\n",
      "          0.0000, 0.0000, 0.0000, 0.0000, 0.0000, 0.0000, 0.0000, 0.0000,\n",
      "          0.0000, 0.0000, 0.0000, 0.0000],\n",
      "         [0.0000, 0.0000, 0.0000, 0.0000, 0.0000, 0.0000, 0.0000, 0.0000,\n",
      "          0.0000, 0.0000, 0.0000, 0.0000, 0.0000, 0.0000, 0.0000, 0.0000,\n",
      "          0.0000, 0.0000, 0.0000, 0.0000, 0.0000, 0.0000, 0.0000, 0.0000,\n",
      "          0.0000, 0.0000, 0.0000, 0.0000],\n",
      "         [0.0000, 0.0000, 0.0000, 0.0000, 0.0000, 0.0000, 0.0000, 0.0000,\n",
      "          0.0000, 0.0000, 0.0000, 0.0000, 0.0000, 0.0000, 0.0000, 0.0000,\n",
      "          0.0000, 0.0000, 0.0000, 0.0000, 0.0000, 0.0000, 0.0000, 0.0000,\n",
      "          0.0000, 0.0000, 0.0000, 0.0000],\n",
      "         [0.0000, 0.0000, 0.0000, 0.0000, 0.0000, 0.0000, 0.0000, 0.0000,\n",
      "          0.0000, 0.0000, 0.0000, 0.0000, 0.0000, 0.0000, 0.0039, 0.0000,\n",
      "          0.0000, 0.0000, 0.0000, 0.0000, 0.0000, 0.0000, 0.0000, 0.0000,\n",
      "          0.0000, 0.0000, 0.0000, 0.0000],\n",
      "         [0.0000, 0.0000, 0.0000, 0.0000, 0.0000, 0.0000, 0.0000, 0.0000,\n",
      "          0.0000, 0.0000, 0.0000, 0.0000, 0.0000, 0.0000, 0.0039, 0.0000,\n",
      "          0.0000, 0.0000, 0.0000, 0.0000, 0.0000, 0.0000, 0.0000, 0.0000,\n",
      "          0.0000, 0.0000, 0.0000, 0.0000],\n",
      "         [0.0000, 0.0000, 0.0000, 0.0000, 0.0000, 0.0000, 0.0000, 0.0000,\n",
      "          0.0000, 0.0000, 0.0000, 0.0000, 0.0000, 0.0000, 0.0000, 0.0000,\n",
      "          0.0000, 0.0000, 0.0000, 0.0000, 0.0000, 0.0000, 0.0000, 0.0000,\n",
      "          0.0000, 0.0000, 0.0000, 0.0000],\n",
      "         [0.0000, 0.0000, 0.0000, 0.0000, 0.0000, 0.0000, 0.0000, 0.0000,\n",
      "          0.0000, 0.0000, 0.0000, 0.0000, 0.0000, 0.0000, 0.0000, 0.0000,\n",
      "          0.0000, 0.0000, 0.0000, 0.0000, 0.0000, 0.0000, 0.0000, 0.0000,\n",
      "          0.0000, 0.0000, 0.0000, 0.0000],\n",
      "         [0.0000, 0.0000, 0.0000, 0.0000, 0.0000, 0.0000, 0.0000, 0.0000,\n",
      "          0.0000, 0.0000, 0.0000, 0.0000, 0.0000, 0.0000, 0.0000, 0.0000,\n",
      "          0.0000, 0.0000, 0.0000, 0.0000, 0.0000, 0.0000, 0.0000, 0.0000,\n",
      "          0.0000, 0.0000, 0.0000, 0.0000],\n",
      "         [0.0000, 0.0000, 0.0000, 0.0000, 0.0000, 0.0000, 0.0000, 0.0000,\n",
      "          0.0000, 0.0000, 0.0000, 0.0000, 0.0000, 0.0000, 0.0000, 0.0000,\n",
      "          0.0000, 0.0000, 0.0000, 0.0000, 0.0000, 0.0000, 0.0000, 0.0000,\n",
      "          0.0000, 0.0000, 0.0000, 0.0000],\n",
      "         [0.0000, 0.0000, 0.0000, 0.0000, 0.0000, 0.0000, 0.0000, 0.0000,\n",
      "          0.0000, 0.0000, 0.0000, 0.0000, 0.0000, 0.0000, 0.0000, 0.0000,\n",
      "          0.0000, 0.0000, 0.0000, 0.0000, 0.0000, 0.0000, 0.0000, 0.0000,\n",
      "          0.0000, 0.0000, 0.0000, 0.0000],\n",
      "         [0.0000, 0.0000, 0.0000, 0.0000, 0.0000, 0.0000, 0.0000, 0.0000,\n",
      "          0.0000, 0.0000, 0.0000, 0.0000, 0.0000, 0.0000, 0.0000, 0.0000,\n",
      "          0.0000, 0.0000, 0.0000, 0.0000, 0.0000, 0.0000, 0.0000, 0.0000,\n",
      "          0.0000, 0.0000, 0.0000, 0.0000],\n",
      "         [0.0000, 0.0000, 0.0000, 0.0000, 0.0000, 0.0000, 0.0000, 0.0000,\n",
      "          0.0000, 0.0000, 0.0000, 0.0000, 0.0000, 0.0000, 0.0000, 0.0000,\n",
      "          0.0000, 0.0000, 0.0000, 0.0000, 0.0000, 0.0000, 0.0000, 0.0000,\n",
      "          0.0000, 0.0000, 0.0000, 0.0000],\n",
      "         [0.0000, 0.0000, 0.0000, 0.0000, 0.0000, 0.0000, 0.0000, 0.0000,\n",
      "          0.0000, 0.0000, 0.0000, 0.0000, 0.0000, 0.0000, 0.0000, 0.0000,\n",
      "          0.0000, 0.0000, 0.0000, 0.0000, 0.0000, 0.0000, 0.0000, 0.0000,\n",
      "          0.0000, 0.0000, 0.0000, 0.0000]]])\n"
     ]
    }
   ],
   "source": [
    "for i in range(len(email)):\n",
    "    student = email[i]\n",
    "    img1 = student[\"note_dizaine\"]\n",
    "    img2 = student[\"note_unite\"]\n",
    "    \n",
    "    img1 = np.array(img1).reshape(28, 28).astype(\"uint8\")\n",
    "    img2 = np.array(img2).reshape(28, 28).astype(\"uint8\")\n",
    "   \n",
    "    # On applique la transformation utilisée par le modèle fitté\n",
    "    img1_tensor = transform(img1)\n",
    "    img2_tensor = transform(img2)\n",
    "    print(img1_tensor)\n",
    "    break\n",
    "    #print(img1_tensor)\n",
    "    # On simule un batch (de taille 1)\n",
    "    batched_img1_tensor = img1_tensor.reshape(1, 1, 28, 28)\n",
    "    batched_img2_tensor = img2_tensor.reshape(1, 1, 28, 28)\n",
    "    # On génère la prédiction\n",
    "    prediction1 = mnist_model(batched_img1_tensor)\n",
    "    prediction2 = mnist_model(batched_img2_tensor)\n",
    "    # On garde la classe la plus probable\n",
    "    number1 = prediction1.data.max(1, keepdim=True)[1][0].numpy()[0]\n",
    "    number2 = prediction2.data.max(1, keepdim=True)[1][0].numpy()[0]\n",
    "    print(number1, number2)"
   ]
  },
  {
   "cell_type": "code",
   "execution_count": 116,
   "metadata": {},
   "outputs": [
    {
     "data": {
      "text/plain": [
       "tensor([[[2.0000e-04, 7.0000e-04, 3.0000e-04, 2.0000e-04, 7.0000e-04,\n",
       "          3.0000e-04, 4.0000e-04, 1.0000e-04, 0.0000e+00, 0.0000e+00,\n",
       "          2.0000e-04, 2.6000e-03, 1.0000e-04, 0.0000e+00, 4.2000e-03,\n",
       "          0.0000e+00, 6.0000e-04, 1.0000e-04, 8.0000e-04, 4.7000e-03,\n",
       "          0.0000e+00, 5.0000e-04, 5.4000e-03, 1.0000e-03, 0.0000e+00,\n",
       "          2.0000e-04, 2.4000e-03, 3.0000e-04],\n",
       "         [1.0000e-04, 4.0000e-04, 4.0000e-04, 4.0000e-04, 7.0000e-04,\n",
       "          2.0000e-04, 2.0000e-04, 1.0000e-04, 0.0000e+00, 1.0000e-04,\n",
       "          1.0000e-04, 0.0000e+00, 2.0000e-04, 3.0000e-04, 3.0000e-04,\n",
       "          2.0000e-04, 2.0000e-03, 9.0000e-04, 1.0000e-04, 7.0000e-04,\n",
       "          1.0000e-04, 2.0000e-04, 1.0000e-04, 2.0000e-04, 4.0000e-04,\n",
       "          0.0000e+00, 1.0000e-04, 7.0000e-04],\n",
       "         [6.0000e-04, 1.0000e-04, 4.0000e-04, 5.0000e-04, 0.0000e+00,\n",
       "          1.0000e-04, 1.0000e-04, 0.0000e+00, 1.0000e-04, 2.0000e-03,\n",
       "          1.4000e-03, 0.0000e+00, 4.0000e-04, 1.0000e-04, 0.0000e+00,\n",
       "          0.0000e+00, 0.0000e+00, 2.0000e-04, 0.0000e+00, 9.0000e-04,\n",
       "          0.0000e+00, 1.0000e-04, 2.2000e-03, 0.0000e+00, 1.0000e-04,\n",
       "          3.6000e-03, 7.0000e-04, 5.0000e-04],\n",
       "         [7.3000e-03, 3.0000e-04, 3.0000e-04, 1.0000e-04, 2.0000e-04,\n",
       "          3.0000e-04, 3.0000e-04, 5.0000e-04, 3.0000e-04, 1.0000e-04,\n",
       "          1.0000e-04, 1.0000e-04, 0.0000e+00, 0.0000e+00, 0.0000e+00,\n",
       "          0.0000e+00, 0.0000e+00, 6.0000e-04, 1.3000e-03, 1.0000e-04,\n",
       "          1.0000e-04, 2.0000e-04, 0.0000e+00, 1.2000e-03, 1.0000e-04,\n",
       "          1.0000e-03, 0.0000e+00, 9.0000e-04],\n",
       "         [1.0000e-04, 4.0000e-04, 2.0000e-04, 2.0000e-04, 3.0000e-04,\n",
       "          0.0000e+00, 2.7000e-03, 3.0000e-04, 1.0000e-04, 0.0000e+00,\n",
       "          0.0000e+00, 0.0000e+00, 0.0000e+00, 0.0000e+00, 0.0000e+00,\n",
       "          1.0000e-04, 0.0000e+00, 8.0000e-04, 4.9000e-03, 5.0000e-03,\n",
       "          1.7600e-02, 2.1700e-02, 9.0000e-04, 6.0000e-04, 2.0000e-03,\n",
       "          0.0000e+00, 9.0000e-04, 2.0000e-04],\n",
       "         [1.5000e-03, 6.0000e-04, 1.0000e-04, 5.0000e-04, 2.7000e-03,\n",
       "          2.0000e-04, 0.0000e+00, 0.0000e+00, 0.0000e+00, 0.0000e+00,\n",
       "          0.0000e+00, 0.0000e+00, 1.0000e-04, 0.0000e+00, 5.0000e-04,\n",
       "          7.6700e-02, 7.1660e-01, 9.3170e-01, 7.8830e-01, 8.3010e-01,\n",
       "          9.0250e-01, 5.5190e-01, 6.0300e-02, 8.1000e-03, 1.1000e-03,\n",
       "          4.4000e-03, 7.0000e-04, 4.0000e-04],\n",
       "         [3.0000e-03, 2.0000e-04, 3.0000e-04, 0.0000e+00, 1.0000e-04,\n",
       "          0.0000e+00, 0.0000e+00, 0.0000e+00, 2.0000e-04, 0.0000e+00,\n",
       "          1.0000e-04, 3.0000e-04, 8.0000e-04, 6.4000e-03, 2.8760e-01,\n",
       "          9.8160e-01, 9.9890e-01, 9.9570e-01, 9.9260e-01, 9.8350e-01,\n",
       "          7.1770e-01, 7.5040e-01, 1.0300e-02, 3.0000e-04, 1.0000e-04,\n",
       "          7.0000e-04, 0.0000e+00, 0.0000e+00],\n",
       "         [0.0000e+00, 1.0000e-04, 0.0000e+00, 6.0000e-04, 3.0000e-04,\n",
       "          1.0000e-04, 1.0000e-04, 2.0000e-04, 1.4000e-03, 4.0000e-04,\n",
       "          5.0000e-04, 1.0130e-01, 7.3600e-01, 9.8750e-01, 9.9780e-01,\n",
       "          9.9910e-01, 9.9980e-01, 9.9820e-01, 9.9020e-01, 8.9240e-01,\n",
       "          8.0900e-01, 1.6800e-02, 2.4000e-03, 3.0000e-04, 0.0000e+00,\n",
       "          0.0000e+00, 0.0000e+00, 6.0000e-04],\n",
       "         [0.0000e+00, 1.0000e-04, 2.0000e-04, 1.0000e-04, 1.0000e-04,\n",
       "          0.0000e+00, 7.0000e-04, 7.0000e-04, 1.0000e-03, 5.0000e-04,\n",
       "          2.3900e-02, 6.4590e-01, 9.9770e-01, 9.9840e-01, 9.9640e-01,\n",
       "          9.8600e-01, 9.6800e-01, 9.3270e-01, 5.2580e-01, 1.3730e-01,\n",
       "          5.8200e-02, 2.5000e-03, 2.0000e-04, 0.0000e+00, 0.0000e+00,\n",
       "          0.0000e+00, 0.0000e+00, 3.0000e-04],\n",
       "         [1.0000e-04, 3.0000e-04, 9.0000e-04, 1.0000e-04, 3.0000e-04,\n",
       "          2.0000e-04, 1.4000e-03, 4.0000e-04, 8.0000e-04, 7.0000e-04,\n",
       "          1.6000e-02, 9.5100e-01, 9.9880e-01, 9.9710e-01, 9.2710e-01,\n",
       "          7.1200e-02, 3.5100e-02, 7.1000e-03, 8.1000e-03, 2.4000e-03,\n",
       "          1.6000e-03, 1.0000e-04, 0.0000e+00, 0.0000e+00, 0.0000e+00,\n",
       "          1.0000e-04, 1.0000e-04, 8.0000e-04],\n",
       "         [2.0000e-04, 4.0000e-04, 1.0000e-04, 0.0000e+00, 0.0000e+00,\n",
       "          5.0000e-04, 1.0000e-04, 0.0000e+00, 0.0000e+00, 1.0000e-03,\n",
       "          3.5800e-02, 9.9430e-01, 9.9990e-01, 9.8550e-01, 6.1500e-02,\n",
       "          1.0000e-03, 0.0000e+00, 0.0000e+00, 3.0000e-04, 2.3000e-03,\n",
       "          8.0000e-04, 0.0000e+00, 0.0000e+00, 1.0000e-04, 3.0000e-04,\n",
       "          2.0000e-04, 3.0000e-04, 1.0000e-04],\n",
       "         [1.0000e-04, 1.2000e-03, 1.0000e-04, 6.0000e-04, 8.0000e-04,\n",
       "          1.0000e-04, 2.0000e-04, 0.0000e+00, 0.0000e+00, 2.0000e-04,\n",
       "          2.3190e-01, 9.9800e-01, 9.9980e-01, 7.9990e-01, 1.1000e-03,\n",
       "          0.0000e+00, 0.0000e+00, 0.0000e+00, 3.0000e-04, 1.9000e-03,\n",
       "          2.1000e-03, 0.0000e+00, 0.0000e+00, 2.0000e-04, 5.0000e-04,\n",
       "          5.0000e-04, 3.0000e-04, 1.5400e-02],\n",
       "         [0.0000e+00, 6.0000e-04, 3.0000e-04, 1.0000e-03, 0.0000e+00,\n",
       "          3.0000e-04, 1.0000e-04, 0.0000e+00, 0.0000e+00, 6.0000e-04,\n",
       "          7.7500e-01, 9.9990e-01, 9.9950e-01, 4.6490e-01, 2.0000e-04,\n",
       "          0.0000e+00, 0.0000e+00, 0.0000e+00, 1.0000e-04, 1.2000e-03,\n",
       "          3.0000e-04, 0.0000e+00, 0.0000e+00, 0.0000e+00, 0.0000e+00,\n",
       "          7.8000e-03, 8.2000e-03, 0.0000e+00],\n",
       "         [3.0000e-04, 1.0000e-04, 6.0000e-04, 1.9000e-03, 9.0000e-04,\n",
       "          4.0000e-04, 1.0000e-04, 0.0000e+00, 0.0000e+00, 3.9000e-03,\n",
       "          9.8850e-01, 9.9990e-01, 9.9980e-01, 5.5780e-01, 5.6000e-03,\n",
       "          6.0000e-04, 1.5000e-03, 1.7000e-03, 2.6000e-03, 3.6000e-03,\n",
       "          0.0000e+00, 0.0000e+00, 0.0000e+00, 0.0000e+00, 0.0000e+00,\n",
       "          4.0000e-04, 4.0000e-04, 1.0000e-04],\n",
       "         [0.0000e+00, 5.0000e-04, 6.0000e-04, 4.4000e-03, 3.4000e-03,\n",
       "          1.8000e-03, 2.0000e-04, 0.0000e+00, 0.0000e+00, 2.2000e-03,\n",
       "          9.9370e-01, 1.0000e+00, 9.9990e-01, 9.9540e-01, 8.5600e-01,\n",
       "          9.5200e-01, 8.4250e-01, 9.4800e-02, 9.3100e-02, 1.1400e-02,\n",
       "          1.0000e-04, 0.0000e+00, 0.0000e+00, 0.0000e+00, 4.0000e-04,\n",
       "          7.0000e-04, 4.0000e-04, 7.0000e-04],\n",
       "         [0.0000e+00, 1.5000e-03, 1.3000e-03, 2.1000e-03, 6.0000e-04,\n",
       "          3.7000e-03, 2.7000e-03, 0.0000e+00, 0.0000e+00, 0.0000e+00,\n",
       "          6.4180e-01, 9.9980e-01, 9.9980e-01, 9.9980e-01, 9.9970e-01,\n",
       "          9.9990e-01, 9.9980e-01, 9.9680e-01, 9.8620e-01, 5.3860e-01,\n",
       "          2.5000e-03, 1.0000e-04, 1.0000e-04, 0.0000e+00, 3.0000e-04,\n",
       "          2.0000e-04, 1.1000e-03, 4.8000e-03],\n",
       "         [3.0000e-04, 1.5000e-03, 1.5000e-03, 1.2000e-03, 7.0000e-04,\n",
       "          3.3000e-03, 1.1000e-03, 0.0000e+00, 0.0000e+00, 0.0000e+00,\n",
       "          2.2900e-02, 9.5050e-01, 9.6020e-01, 9.8000e-01, 9.7570e-01,\n",
       "          9.7880e-01, 9.9220e-01, 9.8880e-01, 9.9800e-01, 9.8780e-01,\n",
       "          2.5700e-02, 2.0000e-04, 7.0000e-04, 2.0000e-04, 0.0000e+00,\n",
       "          6.0000e-04, 1.0000e-04, 4.0000e-04],\n",
       "         [0.0000e+00, 5.0000e-04, 3.0000e-04, 5.0000e-04, 2.0000e-04,\n",
       "          4.0000e-04, 1.1000e-03, 1.0000e-04, 0.0000e+00, 1.0000e-04,\n",
       "          5.5000e-03, 1.5040e-01, 1.1200e-02, 2.9100e-02, 1.4800e-02,\n",
       "          2.3200e-02, 7.2500e-02, 9.3060e-01, 9.9470e-01, 9.9840e-01,\n",
       "          5.2080e-01, 4.5000e-03, 1.1000e-03, 1.0000e-03, 8.0000e-04,\n",
       "          1.0000e-03, 1.8000e-03, 1.1000e-03],\n",
       "         [4.0000e-04, 5.0000e-04, 0.0000e+00, 9.0000e-03, 2.0000e-04,\n",
       "          2.0000e-04, 3.4000e-03, 5.0000e-04, 1.0000e-03, 1.0000e-03,\n",
       "          1.7000e-03, 3.7000e-03, 3.9000e-03, 3.3000e-03, 4.2000e-03,\n",
       "          5.0000e-04, 6.0000e-03, 6.2400e-01, 9.9790e-01, 9.9720e-01,\n",
       "          4.5110e-01, 8.0000e-04, 5.0000e-04, 1.0000e-04, 1.0000e-04,\n",
       "          1.0000e-03, 6.9000e-03, 1.0000e-04],\n",
       "         [0.0000e+00, 1.0000e-04, 1.0000e-04, 7.0000e-04, 2.0000e-04,\n",
       "          3.0000e-04, 4.0000e-04, 2.0000e-04, 4.0000e-04, 7.6000e-03,\n",
       "          4.0700e-02, 6.9300e-02, 1.9000e-03, 2.2000e-03, 1.9000e-03,\n",
       "          2.0000e-04, 2.6000e-03, 7.7480e-01, 9.9370e-01, 9.7330e-01,\n",
       "          7.4990e-01, 7.3000e-03, 0.0000e+00, 0.0000e+00, 0.0000e+00,\n",
       "          8.0000e-04, 2.0000e-04, 0.0000e+00],\n",
       "         [1.0000e-04, 0.0000e+00, 2.0000e-04, 1.4000e-03, 2.0000e-04,\n",
       "          1.0000e-04, 2.0000e-04, 1.0000e-04, 9.0000e-04, 2.1800e-02,\n",
       "          3.9520e-01, 1.5200e-01, 7.1000e-03, 6.0000e-04, 8.0000e-04,\n",
       "          3.5000e-03, 1.2950e-01, 9.5890e-01, 9.8520e-01, 8.6120e-01,\n",
       "          2.2700e-02, 5.0000e-04, 0.0000e+00, 0.0000e+00, 0.0000e+00,\n",
       "          3.0000e-04, 1.3000e-03, 2.0000e-04],\n",
       "         [0.0000e+00, 2.0000e-04, 4.1000e-03, 1.6000e-03, 3.0000e-04,\n",
       "          1.0000e-04, 1.0000e-04, 0.0000e+00, 1.0000e-04, 1.4710e-01,\n",
       "          9.3590e-01, 6.1560e-01, 1.4100e-02, 5.6000e-03, 7.3700e-02,\n",
       "          3.6610e-01, 9.1370e-01, 9.8490e-01, 9.6430e-01, 4.8100e-01,\n",
       "          1.8000e-03, 0.0000e+00, 0.0000e+00, 0.0000e+00, 0.0000e+00,\n",
       "          1.0000e-04, 1.0000e-04, 2.0000e-04],\n",
       "         [5.0000e-04, 0.0000e+00, 2.0000e-04, 1.0000e-04, 7.0000e-04,\n",
       "          5.0000e-04, 3.0000e-04, 4.0000e-04, 2.3000e-03, 3.8670e-01,\n",
       "          9.7760e-01, 9.7700e-01, 4.8100e-01, 4.1460e-01, 7.7220e-01,\n",
       "          9.7300e-01, 9.7030e-01, 9.8440e-01, 7.2520e-01, 6.1000e-03,\n",
       "          0.0000e+00, 0.0000e+00, 0.0000e+00, 0.0000e+00, 0.0000e+00,\n",
       "          1.8000e-03, 1.0000e-04, 2.0000e-04],\n",
       "         [0.0000e+00, 1.0000e-03, 1.0000e-04, 2.0000e-04, 6.0000e-04,\n",
       "          2.0000e-04, 2.0000e-04, 2.0000e-04, 1.5800e-02, 5.9040e-01,\n",
       "          9.6650e-01, 9.7430e-01, 9.8200e-01, 9.9470e-01, 9.8560e-01,\n",
       "          8.4280e-01, 8.1430e-01, 6.8220e-01, 3.5000e-02, 3.0000e-04,\n",
       "          0.0000e+00, 0.0000e+00, 0.0000e+00, 1.0000e-04, 0.0000e+00,\n",
       "          3.0000e-04, 2.0000e-04, 6.8000e-03],\n",
       "         [3.0000e-04, 1.0000e-04, 3.0000e-04, 2.0000e-04, 1.0000e-04,\n",
       "          0.0000e+00, 0.0000e+00, 0.0000e+00, 1.0000e-04, 2.3000e-03,\n",
       "          1.3900e-01, 9.3420e-01, 9.2600e-01, 9.3140e-01, 8.3190e-01,\n",
       "          1.5330e-01, 6.3500e-02, 9.6000e-03, 3.8000e-03, 0.0000e+00,\n",
       "          0.0000e+00, 0.0000e+00, 0.0000e+00, 0.0000e+00, 6.0000e-04,\n",
       "          0.0000e+00, 0.0000e+00, 1.0000e-04],\n",
       "         [2.4000e-03, 4.0000e-04, 1.7000e-03, 0.0000e+00, 0.0000e+00,\n",
       "          0.0000e+00, 0.0000e+00, 0.0000e+00, 3.0000e-04, 2.0000e-04,\n",
       "          0.0000e+00, 1.0000e-04, 3.0000e-04, 1.0000e-03, 2.1200e-02,\n",
       "          7.8600e-02, 1.0900e-02, 6.3000e-03, 2.5000e-03, 2.0000e-04,\n",
       "          8.0000e-04, 1.0000e-04, 3.0000e-04, 0.0000e+00, 0.0000e+00,\n",
       "          2.0000e-04, 0.0000e+00, 9.0000e-04],\n",
       "         [3.0000e-04, 1.0000e-04, 1.0000e-04, 1.0000e-04, 2.0000e-04,\n",
       "          0.0000e+00, 2.3000e-03, 5.0000e-04, 9.0000e-04, 0.0000e+00,\n",
       "          1.0000e-04, 1.0000e-04, 2.0000e-04, 3.0000e-04, 2.5000e-03,\n",
       "          2.7000e-03, 2.0000e-04, 5.0000e-04, 3.0000e-04, 6.0000e-04,\n",
       "          1.2000e-03, 1.1000e-03, 0.0000e+00, 6.0000e-04, 5.0000e-04,\n",
       "          2.0000e-03, 1.0000e-04, 1.3000e-03],\n",
       "         [5.1000e-03, 1.0000e-04, 0.0000e+00, 0.0000e+00, 4.0000e-04,\n",
       "          3.0000e-04, 4.0000e-04, 0.0000e+00, 0.0000e+00, 0.0000e+00,\n",
       "          0.0000e+00, 0.0000e+00, 0.0000e+00, 0.0000e+00, 0.0000e+00,\n",
       "          2.6000e-03, 2.0000e-04, 1.0000e-03, 0.0000e+00, 1.0000e-04,\n",
       "          8.0000e-04, 1.0000e-04, 1.0000e-04, 5.1000e-03, 3.0000e-04,\n",
       "          3.9000e-03, 0.0000e+00, 0.0000e+00]]])"
      ]
     },
     "execution_count": 116,
     "metadata": {},
     "output_type": "execute_result"
    }
   ],
   "source": [
    "img = generate_digit(generator, 5).detach()\n",
    "img"
   ]
  },
  {
   "cell_type": "code",
   "execution_count": 46,
   "metadata": {},
   "outputs": [
    {
     "data": {
      "image/png": "[encoded data removed]",
      "text/plain": [
       "<PIL.Image.Image image mode=L size=28x28 at 0x7FA9001BFE50>"
      ]
     },
     "execution_count": 46,
     "metadata": {},
     "output_type": "execute_result"
    }
   ],
   "source": [
    "transforms.ToPILImage()(img)"
   ]
  },
  {
   "cell_type": "code",
   "execution_count": 47,
   "metadata": {},
   "outputs": [],
   "source": [
    "img = np.array(img).reshape(28, 28).astype(\"uint8\")\n",
    "img_tensor = transform(img)"
   ]
  },
  {
   "cell_type": "code",
   "execution_count": 48,
   "metadata": {},
   "outputs": [
    {
     "name": "stdout",
     "output_type": "stream",
     "text": [
      "tensor([[[-0.4242, -0.4242, -0.4242, -0.4242, -0.4242, -0.4242, -0.4242,\n",
      "          -0.4242, -0.4242, -0.4242, -0.4242, -0.4242, -0.4242, -0.4242,\n",
      "          -0.4242, -0.4242, -0.4242, -0.4242, -0.4242, -0.4242, -0.4242,\n",
      "          -0.4242, -0.4242, -0.4242, -0.4242, -0.4242, -0.4242, -0.4242],\n",
      "         [-0.4242, -0.4242, -0.4242, -0.4242, -0.4242, -0.4242, -0.4242,\n",
      "          -0.4242, -0.4242, -0.4242, -0.4242, -0.4242, -0.4242, -0.4242,\n",
      "          -0.4242, -0.4242, -0.4242, -0.4242, -0.4242, -0.4242, -0.4242,\n",
      "          -0.4242, -0.4242, -0.4242, -0.4242, -0.4242, -0.4242, -0.4242],\n",
      "         [-0.4242, -0.4242, -0.4242, -0.4242, -0.4242, -0.4242, -0.4242,\n",
      "          -0.4242, -0.4242, -0.4242, -0.4242, -0.4242, -0.4242, -0.4242,\n",
      "          -0.4242, -0.4242, -0.4242, -0.4242, -0.4242, -0.4242, -0.4242,\n",
      "          -0.4242, -0.4242, -0.4242, -0.4242, -0.4242, -0.4242, -0.4242],\n",
      "         [-0.4242, -0.4242, -0.4242, -0.4242, -0.4242, -0.4242, -0.4242,\n",
      "          -0.4242, -0.4242, -0.4242, -0.4242, -0.4242, -0.4242, -0.4242,\n",
      "          -0.4242, -0.4242, -0.4242, -0.4242, -0.4242, -0.4242, -0.4242,\n",
      "          -0.4242, -0.4242, -0.4242, -0.4242, -0.4242, -0.4242, -0.4242],\n",
      "         [-0.4242, -0.4242, -0.4242, -0.4242, -0.4242, -0.4242, -0.4242,\n",
      "          -0.4242, -0.4242, -0.4242, -0.4242, -0.4242, -0.4242, -0.4242,\n",
      "          -0.4242, -0.4242, -0.4242, -0.4242, -0.4242, -0.4242, -0.4242,\n",
      "          -0.4242, -0.4242, -0.4242, -0.4242, -0.4242, -0.4242, -0.4242],\n",
      "         [-0.4242, -0.4242, -0.4242, -0.4242, -0.4242, -0.4242, -0.4242,\n",
      "          -0.4242, -0.4242, -0.4242, -0.4242, -0.4242, -0.4242, -0.4242,\n",
      "          -0.4242, -0.4242, -0.4242, -0.4242, -0.4242, -0.4242, -0.4242,\n",
      "          -0.4242, -0.4242, -0.4242, -0.4242, -0.4242, -0.4242, -0.4242],\n",
      "         [-0.4242, -0.4242, -0.4242, -0.4242, -0.4242, -0.4242, -0.4242,\n",
      "          -0.4242, -0.4242, -0.4242, -0.4242, -0.4242, -0.4242, -0.4242,\n",
      "          -0.4242, -0.4242, -0.4242, -0.4242, -0.4242, -0.4242, -0.4242,\n",
      "          -0.4242, -0.4242, -0.4242, -0.4242, -0.4242, -0.4242, -0.4242],\n",
      "         [-0.4242, -0.4242, -0.4242, -0.4242, -0.4242, -0.4242, -0.4242,\n",
      "          -0.4242, -0.4242, -0.4242, -0.4242, -0.4242, -0.4242, -0.4242,\n",
      "          -0.4242, -0.4242, -0.4242, -0.4242, -0.4242, -0.4242, -0.4115,\n",
      "          -0.4242, -0.4115, -0.4115, -0.4242, -0.4242, -0.4242, -0.4242],\n",
      "         [-0.4242, -0.4242, -0.4242, -0.4242, -0.4242, -0.4242, -0.4242,\n",
      "          -0.4242, -0.4242, -0.4242, -0.4242, -0.4242, -0.4242, -0.4242,\n",
      "          -0.4242, -0.4242, -0.4242, -0.4242, -0.4242, -0.4242, -0.4242,\n",
      "          -0.4242, -0.4242, -0.4242, -0.4242, -0.4242, -0.4242, -0.4242],\n",
      "         [-0.4242, -0.4242, -0.4242, -0.4242, -0.4242, -0.4242, -0.4242,\n",
      "          -0.4242, -0.4242, -0.4242, -0.4242, -0.4242, -0.4242, -0.4242,\n",
      "          -0.4242, -0.4242, -0.4242, -0.4242, -0.4242, -0.4242, -0.4242,\n",
      "          -0.4242, -0.4242, -0.4242, -0.4242, -0.4242, -0.4242, -0.4242],\n",
      "         [-0.4242, -0.4242, -0.4242, -0.4242, -0.4242, -0.4242, -0.4242,\n",
      "          -0.4242, -0.4242, -0.4242, -0.4242, -0.4242, -0.4242, -0.4242,\n",
      "          -0.4242, -0.4242, -0.4242, -0.4242, -0.4242, -0.4242, -0.4242,\n",
      "          -0.4242, -0.4242, -0.4242, -0.4242, -0.4242, -0.4242, -0.4242],\n",
      "         [-0.4242, -0.4242, -0.4242, -0.4242, -0.4242, -0.4242, -0.4242,\n",
      "          -0.4242, -0.4242, -0.4242, -0.4242, -0.4242, -0.4242, -0.4242,\n",
      "          -0.4242, -0.4242, -0.4242, -0.4242, -0.4242, -0.4242, -0.4242,\n",
      "          -0.4242, -0.4242, -0.4242, -0.4242, -0.4242, -0.4242, -0.4242],\n",
      "         [-0.4242, -0.4242, -0.4242, -0.4242, -0.4242, -0.4242, -0.4242,\n",
      "          -0.4242, -0.4242, -0.4242, -0.4242, -0.4242, -0.4242, -0.4242,\n",
      "          -0.4242, -0.4242, -0.4242, -0.4242, -0.4242, -0.4242, -0.4242,\n",
      "          -0.4242, -0.4242, -0.4242, -0.4242, -0.4242, -0.4242, -0.4242],\n",
      "         [-0.4242, -0.4242, -0.4242, -0.4242, -0.4242, -0.4242, -0.4242,\n",
      "          -0.4242, -0.4242, -0.4242, -0.4242, -0.4242, -0.4242, -0.4242,\n",
      "          -0.4242, -0.4242, -0.4242, -0.4242, -0.4242, -0.4242, -0.4242,\n",
      "          -0.4242, -0.4242, -0.4242, -0.4242, -0.4242, -0.4242, -0.4242],\n",
      "         [-0.4242, -0.4242, -0.4242, -0.4242, -0.4242, -0.4242, -0.4242,\n",
      "          -0.4242, -0.4242, -0.4242, -0.4242, -0.4115, -0.4115, -0.4242,\n",
      "          -0.4242, -0.4242, -0.4242, -0.4242, -0.4242, -0.4242, -0.4242,\n",
      "          -0.4242, -0.4242, -0.4242, -0.4242, -0.4242, -0.4242, -0.4242],\n",
      "         [-0.4242, -0.4242, -0.4242, -0.4242, -0.4242, -0.4242, -0.4242,\n",
      "          -0.4242, -0.4242, -0.4242, -0.4242, -0.4242, -0.4242, -0.4242,\n",
      "          -0.4242, -0.4242, -0.4115, -0.4115, -0.4242, -0.4242, -0.4242,\n",
      "          -0.4242, -0.4242, -0.4242, -0.4242, -0.4242, -0.4242, -0.4242],\n",
      "         [-0.4242, -0.4242, -0.4242, -0.4242, -0.4242, -0.4242, -0.4242,\n",
      "          -0.4242, -0.4242, -0.4242, -0.4242, -0.4242, -0.4242, -0.4242,\n",
      "          -0.4242, -0.4242, -0.4242, -0.4242, -0.4242, -0.4242, -0.4242,\n",
      "          -0.4242, -0.4242, -0.4242, -0.4242, -0.4242, -0.4242, -0.4242],\n",
      "         [-0.4242, -0.4242, -0.4242, -0.4242, -0.4242, -0.4242, -0.4242,\n",
      "          -0.4242, -0.4242, -0.4242, -0.4242, -0.4242, -0.4242, -0.4242,\n",
      "          -0.4242, -0.4242, -0.4242, -0.4242, -0.4242, -0.4242, -0.4242,\n",
      "          -0.4242, -0.4242, -0.4242, -0.4242, -0.4242, -0.4242, -0.4242],\n",
      "         [-0.4242, -0.4242, -0.4242, -0.4242, -0.4242, -0.4242, -0.4242,\n",
      "          -0.4242, -0.4242, -0.4242, -0.4242, -0.4242, -0.4242, -0.4242,\n",
      "          -0.4242, -0.4242, -0.4242, -0.4242, -0.4242, -0.4242, -0.4242,\n",
      "          -0.4242, -0.4242, -0.4242, -0.4242, -0.4242, -0.4242, -0.4242],\n",
      "         [-0.4242, -0.4242, -0.4242, -0.4242, -0.4242, -0.4242, -0.4242,\n",
      "          -0.4242, -0.4242, -0.4242, -0.4242, -0.4242, -0.4242, -0.4242,\n",
      "          -0.4242, -0.4242, -0.4115, -0.4242, -0.4242, -0.4242, -0.4242,\n",
      "          -0.4242, -0.4242, -0.4242, -0.4242, -0.4242, -0.4242, -0.4242],\n",
      "         [-0.4242, -0.4242, -0.4242, -0.4242, -0.4242, -0.4242, -0.4242,\n",
      "          -0.4242, -0.4242, -0.4242, -0.4242, -0.4242, -0.4242, -0.4242,\n",
      "          -0.4242, -0.4242, -0.4242, -0.4242, -0.4242, -0.4242, -0.4242,\n",
      "          -0.4242, -0.4242, -0.4242, -0.4242, -0.4242, -0.4242, -0.4242],\n",
      "         [-0.4242, -0.4242, -0.4242, -0.4242, -0.4242, -0.4242, -0.4242,\n",
      "          -0.4242, -0.4242, -0.4115, -0.4115, -0.4115, -0.4242, -0.4115,\n",
      "          -0.4242, -0.4242, -0.4242, -0.4242, -0.4242, -0.4242, -0.4242,\n",
      "          -0.4242, -0.4242, -0.4242, -0.4242, -0.4242, -0.4242, -0.4242],\n",
      "         [-0.4242, -0.4242, -0.4242, -0.4242, -0.4242, -0.4242, -0.4242,\n",
      "          -0.4242, -0.4242, -0.4242, -0.4242, -0.4242, -0.4242, -0.4242,\n",
      "          -0.4242, -0.4242, -0.4242, -0.4242, -0.4242, -0.4242, -0.4242,\n",
      "          -0.4242, -0.4242, -0.4242, -0.4242, -0.4242, -0.4242, -0.4242],\n",
      "         [-0.4242, -0.4242, -0.4242, -0.4242, -0.4242, -0.4242, -0.4242,\n",
      "          -0.4242, -0.4242, -0.4242, -0.4242, -0.4242, -0.4242, -0.4242,\n",
      "          -0.4242, -0.4242, -0.4242, -0.4242, -0.4242, -0.4242, -0.4242,\n",
      "          -0.4242, -0.4242, -0.4242, -0.4242, -0.4242, -0.4242, -0.4242],\n",
      "         [-0.4242, -0.4242, -0.4242, -0.4242, -0.4242, -0.4242, -0.4242,\n",
      "          -0.4242, -0.4242, -0.4242, -0.4242, -0.4242, -0.4242, -0.4242,\n",
      "          -0.4242, -0.4242, -0.4242, -0.4242, -0.4242, -0.4242, -0.4242,\n",
      "          -0.4242, -0.4242, -0.4242, -0.4242, -0.4242, -0.4242, -0.4242],\n",
      "         [-0.4242, -0.4242, -0.4242, -0.4242, -0.4242, -0.4242, -0.4242,\n",
      "          -0.4242, -0.4242, -0.4242, -0.4242, -0.4242, -0.4242, -0.4242,\n",
      "          -0.4242, -0.4242, -0.4242, -0.4242, -0.4242, -0.4242, -0.4242,\n",
      "          -0.4242, -0.4242, -0.4242, -0.4242, -0.4242, -0.4242, -0.4242],\n",
      "         [-0.4242, -0.4242, -0.4242, -0.4242, -0.4242, -0.4242, -0.4242,\n",
      "          -0.4242, -0.4242, -0.4242, -0.4242, -0.4242, -0.4242, -0.4242,\n",
      "          -0.4242, -0.4242, -0.4242, -0.4242, -0.4242, -0.4242, -0.4242,\n",
      "          -0.4242, -0.4242, -0.4242, -0.4242, -0.4242, -0.4242, -0.4242],\n",
      "         [-0.4242, -0.4242, -0.4242, -0.4242, -0.4242, -0.4242, -0.4242,\n",
      "          -0.4242, -0.4242, -0.4242, -0.4242, -0.4242, -0.4242, -0.4242,\n",
      "          -0.4242, -0.4242, -0.4242, -0.4242, -0.4242, -0.4242, -0.4242,\n",
      "          -0.4242, -0.4242, -0.4242, -0.4242, -0.4242, -0.4242, -0.4242]]])\n"
     ]
    }
   ],
   "source": [
    "print(img_tensor)"
   ]
  },
  {
   "cell_type": "code",
   "execution_count": null,
   "metadata": {},
   "outputs": [],
   "source": []
  }
 ],
 "metadata": {
  "kernelspec": {
   "display_name": "Python 3",
   "language": "python",
   "name": "python3"
  },
  "language_info": {
   "codemirror_mode": {
    "name": "ipython",
    "version": 3
   },
   "file_extension": ".py",
   "mimetype": "text/x-python",
   "name": "python",
   "nbconvert_exporter": "python",
   "pygments_lexer": "ipython3",
   "version": "3.9.0"
  }
 },
 "nbformat": 4,
 "nbformat_minor": 4
}
