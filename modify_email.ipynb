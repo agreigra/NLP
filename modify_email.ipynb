{
 "cells": [
  {
   "cell_type": "code",
   "execution_count": 1,
   "metadata": {},
   "outputs": [],
   "source": [
    "import json\n",
    "import numpy as np\n",
    "import matplotlib.pyplot as plt\n",
    "import torch\n",
    "from torchvision import transforms\n",
    "from mnist_generator import *\n",
    "import mnist"
   ]
  },
  {
   "cell_type": "code",
   "execution_count": 2,
   "metadata": {},
   "outputs": [],
   "source": [
    "# Lecture de \"l'email\"\n",
    "with open(\"email.json\", \"r\") as fp:\n",
    "    email = json.load(fp)"
   ]
  },
  {
   "cell_type": "code",
   "execution_count": 3,
   "metadata": {},
   "outputs": [],
   "source": [
    "expected_notes = [19, 20, 8, 10, 11, 11, 12, 12, 13, 13, 13, 14, 14, 14, 15, 15, 16,16,17,18,]"
   ]
  },
  {
   "cell_type": "code",
   "execution_count": 4,
   "metadata": {},
   "outputs": [],
   "source": [
    "# On récupère la transformation à appliquer aux images\n",
    "transform = transforms.Compose([\n",
    "    transforms.ToTensor(),\n",
    "    transforms.Normalize((0.1307,), (0.3081,))\n",
    "])"
   ]
  },
  {
   "cell_type": "code",
   "execution_count": 5,
   "metadata": {},
   "outputs": [
    {
     "data": {
      "text/plain": [
       "<All keys matched successfully>"
      ]
     },
     "execution_count": 5,
     "metadata": {},
     "output_type": "execute_result"
    }
   ],
   "source": [
    "# On charge le modèle sauvegardé\n",
    "mnist_model = mnist.Net()\n",
    "device = torch.device(\"cuda\" if torch.cuda.is_available() else \"cpu\")\n",
    "mnist_dict = torch.load(\"mnist_cnn.pt\", map_location=device)\n",
    "mnist_model.load_state_dict(mnist_dict)"
   ]
  },
  {
   "cell_type": "code",
   "execution_count": 6,
   "metadata": {},
   "outputs": [
    {
     "data": {
      "text/plain": [
       "Generator(\n",
       "  (label_emb): Embedding(10, 10)\n",
       "  (model): Sequential(\n",
       "    (0): Linear(in_features=110, out_features=256, bias=True)\n",
       "    (1): LeakyReLU(negative_slope=0.2, inplace=True)\n",
       "    (2): Linear(in_features=256, out_features=512, bias=True)\n",
       "    (3): LeakyReLU(negative_slope=0.2, inplace=True)\n",
       "    (4): Linear(in_features=512, out_features=1024, bias=True)\n",
       "    (5): LeakyReLU(negative_slope=0.2, inplace=True)\n",
       "    (6): Linear(in_features=1024, out_features=784, bias=True)\n",
       "    (7): Tanh()\n",
       "  )\n",
       ")"
      ]
     },
     "execution_count": 6,
     "metadata": {},
     "output_type": "execute_result"
    }
   ],
   "source": [
    "generator = Generator()\n",
    "generator.load_state_dict(torch.load(\"mnist_generator100.pt\"))\n",
    "generator.eval()"
   ]
  },
  {
   "cell_type": "code",
   "execution_count": 7,
   "metadata": {},
   "outputs": [],
   "source": [
    "def generate_digit(generator, digit):\n",
    "    z = Variable(torch.randn(1, 100))\n",
    "    label = torch.LongTensor([digit])\n",
    "    img = generator(z, label)\n",
    "    img = (0.5 * img + 0.5).detach().numpy()\n",
    "    img = np.round_(img, decimals=3)\n",
    "    img = img * 255 \n",
    "    img = np.round_(img, decimals=0)\n",
    "    return torch.from_numpy(img)"
   ]
  },
  {
   "cell_type": "code",
   "execution_count": 8,
   "metadata": {},
   "outputs": [
    {
     "data": {
      "text/plain": [
       "<matplotlib.image.AxesImage at 0x7f12ea7fd580>"
      ]
     },
     "execution_count": 8,
     "metadata": {},
     "output_type": "execute_result"
    },
    {
     "data": {
      "image/png": "[encoded data removed]",
      "text/plain": [
       "<Figure size 432x288 with 1 Axes>"
      ]
     },
     "metadata": {
      "needs_background": "light"
     },
     "output_type": "display_data"
    }
   ],
   "source": [
    "image = generate_digit(generator, 1)\n",
    "#print(image)\n",
    "\n",
    "#transforms.ToPILImage()(image)\n",
    "plt.imshow(np.array(image).reshape(28, -1), cmap='gray',interpolation='none')"
   ]
  },
  {
   "cell_type": "code",
   "execution_count": 9,
   "metadata": {},
   "outputs": [],
   "source": [
    "def compute_number(img, mnist_model):\n",
    "    img = np.array(img).reshape(28, 28).astype(\"uint8\")\n",
    "    img_tensor = transform(img)\n",
    "    batched_img_tensor = img_tensor.reshape(1, 1, 28, 28)\n",
    "    prediction = mnist_model(batched_img_tensor)\n",
    "    number = prediction.data.max(1, keepdim=True)[1][0].numpy()[0]\n",
    "    return number"
   ]
  },
  {
   "cell_type": "code",
   "execution_count": 10,
   "metadata": {},
   "outputs": [],
   "source": [
    "def number_to_pair(num):\n",
    "    return (num//10, num%10)"
   ]
  },
  {
   "cell_type": "code",
   "execution_count": 11,
   "metadata": {},
   "outputs": [],
   "source": [
    "def distance_image(image_base, image_modifiee):\n",
    "    return np.linalg.norm(np.array(image_base) - np.array(image_modifiee))\n"
   ]
  },
  {
   "cell_type": "code",
   "execution_count": 12,
   "metadata": {},
   "outputs": [],
   "source": [
    "def modify_notes2(generator, email,expected_notes, mnist_smodel):\n",
    "    notes = list(map(number_to_pair, expected_notes))\n",
    "    existed_image = []\n",
    "    for i in range(len(email)):\n",
    "        \n",
    "        note1 = email[i][\"note_dizaine\"]\n",
    "        note2 = email[i][\"note_unite\"]\n",
    "        \n",
    "        note1 = compute_number(note1, mnist_model)\n",
    "        note2 = compute_number(note2, mnist_model)\n",
    "        \n",
    "        if((note1, note2) in notes):\n",
    "            notes.remove((note1,note2))\n",
    "            existed_image.append(i)\n",
    "            \n",
    "    for i in range(len(email)):\n",
    "        \n",
    "        note1 = email[i][\"note_dizaine\"]\n",
    "        note2 = email[i][\"note_unite\"]\n",
    "        \n",
    "        note1 = compute_number(note1, mnist_model)\n",
    "        note2 = compute_number(note2, mnist_model)\n",
    "        \n",
    "        if(i not in existed_image):\n",
    "            found = False\n",
    "            \n",
    "            for note in notes:\n",
    "                a, b = note[0], note[1]\n",
    "                if(a == note1):\n",
    "                    img = generate_digit(generator, b).view(784).tolist()\n",
    "                    while(compute_number(img, mnist_model) != b):\n",
    "                        img = generate_digit(generator, b).view(784).tolist()\n",
    "                        print(note2, compute_number(img, mnist_model))\n",
    "                        \n",
    "                    email[i][\"note_unite\"] = img\n",
    "                    notes.remove((a, b))\n",
    "                    found = True\n",
    "                    break\n",
    "                elif (b == note2):\n",
    "                    img = generate_digit(generator, a).view(784).tolist()\n",
    "                    while(compute_number(img, mnist_model) != a):\n",
    "                        img = generate_digit(generator, a).view(784).tolist()\n",
    "                        print(note1, compute_number(img, mnist_model))\n",
    "                    \n",
    "                    email[i][\"note_dizaine\"] = img\n",
    "                    \n",
    "                    notes.remove((a, b))\n",
    "                    found = True\n",
    "                    break\n",
    "        \n",
    "            if(not found):\n",
    "                note = notes.pop()\n",
    "                a, b = note[0], note[1]\n",
    "                \n",
    "                img1 = generate_digit(generator, a).view(784).tolist()\n",
    "                img2 = generate_digit(generator, b).view(784).tolist()\n",
    "        \n",
    "                while (compute_number(img1, mnist_model) != a):\n",
    "                    img1 = generate_digit(generator, a).view(784).tolist()\n",
    "                    \n",
    "                while(compute_number(img2, mnist_model) != b):\n",
    "                    img2 = generate_digit(generator, b).view(784).tolist()\n",
    "                email[i][\"note_dizaine\"] = img1\n",
    "                email[i][\"note_unite\"] = img2\n",
    "        print(\".......\")\n",
    "    with open('modified.json', 'w') as outfile:\n",
    "        json.dump(email, outfile)"
   ]
  },
  {
   "cell_type": "code",
   "execution_count": 15,
   "metadata": {},
   "outputs": [],
   "source": [
    "def modify_notess(generator, email,expected_notes, mnist_smodel):\n",
    "    notes = list(map(number_to_pair, expected_notes))\n",
    "    existed_image = []\n",
    "    for i in range(len(email)):\n",
    "        \n",
    "        note1 = email[i][\"note_dizaine\"]\n",
    "        note2 = email[i][\"note_unite\"]\n",
    "        \n",
    "        note1 = compute_number(note1, mnist_model)\n",
    "        note2 = compute_number(note2, mnist_model)\n",
    "        \n",
    "        if((note1, note2) in notes):\n",
    "            notes.remove((note1,note2))\n",
    "            existed_image.append(i)\n",
    "        \n",
    "    for i in range(len(email)):\n",
    "        \n",
    "        img1_base = email[i][\"note_dizaine\"]\n",
    "        img2_base = email[i][\"note_unite\"]\n",
    "        \n",
    "        note1 = compute_number(img1_base, mnist_model)\n",
    "        note2 = compute_number(img2_base, mnist_model)\n",
    "        \n",
    "        dist1, dist2 = 0, 0\n",
    "        if(i not in existed_image):\n",
    "            found = False\n",
    "            \n",
    "            for note in notes:\n",
    "                a, b = note[0], note[1]\n",
    "                if(a == note1):\n",
    "                    img = generate_digit(generator, b).view(784).tolist()\n",
    "                    dist2 = distance_image(img2_base ,img)\n",
    "                    while (dist2 > 3000) or (compute_number(img, mnist_model) != b):\n",
    "                        img = generate_digit(generator, b).view(784).tolist()\n",
    "                        dist2 = distance_image(img2_base ,img)\n",
    "                    \n",
    "                    email[i][\"note_unite\"] = img\n",
    "                    notes.remove((a, b))\n",
    "                    found = True\n",
    "                    break\n",
    "                elif (b == note2):\n",
    "                    img = generate_digit(generator, a).view(784).tolist()\n",
    "                    dist1 = distance_image(img1_base ,img)\n",
    "                    while (dist1 > 3000) or (compute_number(img, mnist_model) != a):\n",
    "                        img = generate_digit(generator, a).view(784).tolist()\n",
    "                        dist1 = distance_image(img1_base ,img)\n",
    "                    \n",
    "                    email[i][\"note_dizaine\"] = img\n",
    "                    \n",
    "                    notes.remove((a, b))\n",
    "                    found = True\n",
    "                    break\n",
    "        \n",
    "            if(not found):\n",
    "                note = notes.pop()\n",
    "                a, b = note[0], note[1]\n",
    "                \n",
    "                img1 = generate_digit(generator, a).view(784).tolist()\n",
    "                img2 = generate_digit(generator, b).view(784).tolist()\n",
    "                \n",
    "                dist1 = distance_image(img1_base ,img1)\n",
    "                dist2 = distance_image(img2_base ,img2)\n",
    "                    \n",
    "                while (dist1 > 3000) or (compute_number(img1, mnist_model) != a):\n",
    "                    img1 = generate_digit(generator, a).view(784).tolist()\n",
    "                    dist1 = distance_image(img1_base ,img1)\n",
    "                    \n",
    "                while (dist2 > 3000) or (compute_number(img2, mnist_model) != b):\n",
    "                    img2 = generate_digit(generator, b).view(784).tolist()\n",
    "                    dist2 = distance_image(img2_base ,img2)\n",
    "                    \n",
    "                email[i][\"note_dizaine\"] = img1\n",
    "                email[i][\"note_unite\"] = img2\n",
    "        print(dist1, dist2)\n",
    "        \n",
    "    with open('modified.json', 'w') as outfile:\n",
    "        json.dump(email, outfile)"
   ]
  },
  {
   "cell_type": "code",
   "execution_count": 16,
   "metadata": {},
   "outputs": [
    {
     "name": "stdout",
     "output_type": "stream",
     "text": [
      "0 0\n",
      "0 0\n",
      "2992.4929406767196 0\n",
      "0 0\n",
      "2768.5033863082053 0\n",
      "2821.8265361286826 0\n",
      "2951.3944162039747 0\n",
      "2966.6457489899262 0\n",
      "2789.620045812691 0\n",
      "2890.2712675456605 0\n",
      "2969.701836885313 0\n",
      "2648.327207880476 2921.9750170047655\n",
      "2157.270961191477 2956.276204957852\n",
      "2670.5520028638275 0\n",
      "2878.755633950197 2671.572570603314\n",
      "2676.3811387767623 2589.4161504092\n",
      "2978.5848989075334 0\n",
      "0 0\n",
      "2516.9926499694034 2193.809472128334\n",
      "2988.6532083866805 0\n"
     ]
    }
   ],
   "source": [
    "modify_notes2(generator, email, expected_notes, mnist_model)"
   ]
  },
  {
   "cell_type": "code",
   "execution_count": 18,
   "metadata": {},
   "outputs": [
    {
     "data": {
      "image/png": "[encoded data removed]",
      "text/plain": [
       "<Figure size 432x288 with 2 Axes>"
      ]
     },
     "metadata": {},
     "output_type": "display_data"
    },
    {
     "data": {
      "image/png": "[encoded data removed]",
      "text/plain": [
       "<Figure size 432x288 with 2 Axes>"
      ]
     },
     "metadata": {},
     "output_type": "display_data"
    },
    {
     "data": {
      "image/png": "[encoded data removed]",
      "text/plain": [
       "<Figure size 432x288 with 2 Axes>"
      ]
     },
     "metadata": {},
     "output_type": "display_data"
    },
    {
     "data": {
      "image/png": "[encoded data removed]",
      "text/plain": [
       "<Figure size 432x288 with 2 Axes>"
      ]
     },
     "metadata": {},
     "output_type": "display_data"
    },
    {
     "data": {
      "image/png": "[encoded data removed]",
      "text/plain": [
       "<Figure size 432x288 with 2 Axes>"
      ]
     },
     "metadata": {},
     "output_type": "display_data"
    },
    {
     "data": {
      "image/png": "[encoded data removed]",
      "text/plain": [
       "<Figure size 432x288 with 2 Axes>"
      ]
     },
     "metadata": {},
     "output_type": "display_data"
    },
    {
     "data": {
      "image/png": "[encoded data removed]",
      "text/plain": [
       "<Figure size 432x288 with 2 Axes>"
      ]
     },
     "metadata": {},
     "output_type": "display_data"
    },
    {
     "data": {
      "image/png": "[encoded data removed]",
      "text/plain": [
       "<Figure size 432x288 with 2 Axes>"
      ]
     },
     "metadata": {},
     "output_type": "display_data"
    },
    {
     "data": {
      "image/png": "[encoded data removed]",
      "text/plain": [
       "<Figure size 432x288 with 2 Axes>"
      ]
     },
     "metadata": {},
     "output_type": "display_data"
    },
    {
     "data": {
      "image/png": "[encoded data removed]",
      "text/plain": [
       "<Figure size 432x288 with 2 Axes>"
      ]
     },
     "metadata": {},
     "output_type": "display_data"
    },
    {
     "data": {
      "image/png": "[encoded data removed]",
      "text/plain": [
       "<Figure size 432x288 with 2 Axes>"
      ]
     },
     "metadata": {},
     "output_type": "display_data"
    },
    {
     "data": {
      "image/png": "[encoded data removed]",
      "text/plain": [
       "<Figure size 432x288 with 2 Axes>"
      ]
     },
     "metadata": {},
     "output_type": "display_data"
    },
    {
     "data": {
      "image/png": "[encoded data removed]",
      "text/plain": [
       "<Figure size 432x288 with 2 Axes>"
      ]
     },
     "metadata": {},
     "output_type": "display_data"
    },
    {
     "data": {
      "image/png": "[encoded data removed]",
      "text/plain": [
       "<Figure size 432x288 with 2 Axes>"
      ]
     },
     "metadata": {},
     "output_type": "display_data"
    },
    {
     "data": {
      "image/png": "[encoded data removed]",
      "text/plain": [
       "<Figure size 432x288 with 2 Axes>"
      ]
     },
     "metadata": {},
     "output_type": "display_data"
    },
    {
     "data": {
      "image/png": "[encoded data removed]",
      "text/plain": [
       "<Figure size 432x288 with 2 Axes>"
      ]
     },
     "metadata": {},
     "output_type": "display_data"
    },
    {
     "data": {
      "image/png": "[encoded data removed]",
      "text/plain": [
       "<Figure size 432x288 with 2 Axes>"
      ]
     },
     "metadata": {},
     "output_type": "display_data"
    },
    {
     "data": {
      "image/png": "[encoded data removed]",
      "text/plain": [
       "<Figure size 432x288 with 2 Axes>"
      ]
     },
     "metadata": {},
     "output_type": "display_data"
    },
    {
     "data": {
      "image/png": "[encoded data removed]",
      "text/plain": [
       "<Figure size 432x288 with 2 Axes>"
      ]
     },
     "metadata": {},
     "output_type": "display_data"
    },
    {
     "data": {
      "image/png": "[encoded data removed]",
      "text/plain": [
       "<Figure size 432x288 with 2 Axes>"
      ]
     },
     "metadata": {},
     "output_type": "display_data"
    }
   ],
   "source": [
    "for i in range(len(email)):\n",
    "    student = email[i]\n",
    "    # Sa note \n",
    "    fig = plt.figure()\n",
    "    for position, key in enumerate([\"note_dizaine\", \"note_unite\"], 1):\n",
    "        plt.subplot(1, 2, position)\n",
    "        plt.tight_layout()\n",
    "        plt.imshow(\n",
    "            np.array(student[key]).reshape(28, -1),\n",
    "            cmap='gray',\n",
    "            interpolation='none'\n",
    "        )\n",
    "        plt.xticks([])\n",
    "        plt.yticks([])\n",
    "    \n",
    "fig;"
   ]
  },
  {
   "cell_type": "code",
   "execution_count": 19,
   "metadata": {},
   "outputs": [
    {
     "name": "stdout",
     "output_type": "stream",
     "text": [
      "1 2\n",
      "1 6\n",
      "1 3\n",
      "0 8\n",
      "1 4\n",
      "1 5\n",
      "1 6\n",
      "1 3\n",
      "2 0\n",
      "1 9\n",
      "1 4\n",
      "1 8\n",
      "1 7\n",
      "1 1\n",
      "1 5\n",
      "1 4\n",
      "1 2\n",
      "1 0\n",
      "1 3\n",
      "1 1\n"
     ]
    }
   ],
   "source": [
    "for i in range(len(email)):\n",
    "    student = email[i]\n",
    "    img1 = student[\"note_dizaine\"]\n",
    "    img2 = student[\"note_unite\"]\n",
    "    \n",
    "    img1 = np.array(img1).reshape(28, 28).astype(\"uint8\")\n",
    "    img2 = np.array(img2).reshape(28, 28).astype(\"uint8\")\n",
    "   \n",
    "    # On applique la transformation utilisée par le modèle fitté\n",
    "    img1_tensor = transform(img1)\n",
    "    img2_tensor = transform(img2)\n",
    "    #print(img1_tensor)\n",
    "    #break\n",
    "    # On simule un batch (de taille 1)\n",
    "    batched_img1_tensor = img1_tensor.reshape(1, 1, 28, 28)\n",
    "    batched_img2_tensor = img2_tensor.reshape(1, 1, 28, 28)\n",
    "    # On génère la prédiction\n",
    "    prediction1 = mnist_model(batched_img1_tensor)\n",
    "    prediction2 = mnist_model(batched_img2_tensor)\n",
    "    # On garde la classe la plus probable\n",
    "    number1 = prediction1.data.max(1, keepdim=True)[1][0].numpy()[0]\n",
    "    number2 = prediction2.data.max(1, keepdim=True)[1][0].numpy()[0]\n",
    "    print(number1, number2)"
   ]
  },
  {
   "cell_type": "code",
   "execution_count": null,
   "metadata": {},
   "outputs": [],
   "source": []
  }
 ],
 "metadata": {
  "kernelspec": {
   "display_name": "Python 3",
   "language": "python",
   "name": "python3"
  },
  "language_info": {
   "codemirror_mode": {
    "name": "ipython",
    "version": 3
   },
   "file_extension": ".py",
   "mimetype": "text/x-python",
   "name": "python",
   "nbconvert_exporter": "python",
   "pygments_lexer": "ipython3",
   "version": "3.9.0"
  }
 },
 "nbformat": 4,
 "nbformat_minor": 4
}
