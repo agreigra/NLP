{
 "cells": [
  {
   "cell_type": "code",
   "execution_count": 2,
   "metadata": {},
   "outputs": [
    {
     "name": "stdout",
     "output_type": "stream",
     "text": [
      "INFO: Pandarallel will run on 40 workers.\n",
      "INFO: Pandarallel will use Memory file system to transfer data between the main process and workers.\n"
     ]
    }
   ],
   "source": [
    "# Machine Learning\n",
    "import joblib\n",
    "import sklearn\n",
    "from sklearn.feature_extraction.text import TfidfVectorizer\n",
    "\n",
    "# Data manipulation\n",
    "import pandas as pd\n",
    "import numpy as np\n",
    "\n",
    "# NLP\n",
    "from gensim.models import Word2Vec, KeyedVectors\n",
    "# Fichier nlp.py a étudier!\n",
    "from nlp import text2tokens\n",
    "\n",
    "# Graphs\n",
    "import matplotlib.pyplot as plt\n",
    "\n",
    "# Parallel apply on pandas dataframe\n",
    "from pandarallel import pandarallel\n",
    "pandarallel.initialize()\n",
    "\n",
    "\n",
    "\n",
    "\n",
    "\n",
    "\n",
    "import json\n",
    "from nlp import text2tokens, text2vec\n",
    "from nltk.corpus import stopwords\n",
    "import string\n",
    "from gensim.models import Word2Vec, KeyedVectors\n"
   ]
  },
  {
   "cell_type": "code",
   "execution_count": 3,
   "metadata": {},
   "outputs": [],
   "source": [
    "# Lecture de \"l'email\"\n",
    "with open(\"email.json\", \"r\") as fp:\n",
    "    email = json.load(fp)"
   ]
  },
  {
   "cell_type": "markdown",
   "metadata": {},
   "source": [
    "# Data prep"
   ]
  },
  {
   "cell_type": "code",
   "execution_count": 4,
   "metadata": {},
   "outputs": [],
   "source": [
    "GARBAGE = {\"'s\", \"n't\", '...', 'oh',\"'m\", \"'re\", \"'\", \"''\", \"'ve\", \"'ll\", \"'d\", \"``\" }\n",
    "STOP_WORDS = set(stopwords.words('english')).union(GARBAGE)\n",
    "\n",
    "\n",
    "def clean_tokens(tokens):\n",
    "    return [token.lower() for token in tokens if token not in string.punctuation]\n",
    "\n",
    "def remove_stop_words(tokens):\n",
    "    return [token for token in tokens if token not in STOP_WORDS]\n",
    "\n",
    "def sentence2tokens(sentence):\n",
    "    tokens = text2tokens(sentence)\n",
    "    tokens = clean_tokens(tokens)\n",
    "    tokens = remove_stop_words(tokens)\n",
    "    return tokens"
   ]
  },
  {
   "cell_type": "markdown",
   "metadata": {},
   "source": [
    "# Chargons le modèle de NLP"
   ]
  },
  {
   "cell_type": "code",
   "execution_count": 5,
   "metadata": {},
   "outputs": [
    {
     "name": "stderr",
     "output_type": "stream",
     "text": [
      "/home/cisd-greigra/.local/lib/python3.9/site-packages/sklearn/base.py:310: UserWarning: Trying to unpickle estimator LogisticRegression from version 0.23.2 when using version 0.24.0. This might lead to breaking code or invalid results. Use at your own risk.\n",
      "  warnings.warn(\n"
     ]
    }
   ],
   "source": [
    "nlp_model = joblib.load('nlp_model.joblib')\n",
    "ml = nlp_model[\"ml\"]\n",
    "idf = nlp_model[\"idf\"]\n",
    "wv = nlp_model[\"wv\"]"
   ]
  },
  {
   "cell_type": "markdown",
   "metadata": {},
   "source": [
    "## Simplifions le calcul du sentiment identifié dans les textes"
   ]
  },
  {
   "cell_type": "code",
   "execution_count": 6,
   "metadata": {},
   "outputs": [],
   "source": [
    "def compute_sentiment(text, wv, idf, ml, threshold=0.55):\n",
    "    # NLP : feature exctraction\n",
    "    tokens = text2tokens(text)\n",
    "    vector = text2vec(wv, idf, tokens)\n",
    "    # Compute prediction\n",
    "    prediction = ml.predict_proba(vector.reshape(1, -1))[0]\n",
    "    # Use positive class proba and threshold to estimate sentiment\n",
    "    sentiment = (prediction[1] > threshold)\n",
    "    return sentiment"
   ]
  },
  {
   "cell_type": "markdown",
   "metadata": {},
   "source": [
    "# Chargons le modèle de Word2Vec"
   ]
  },
  {
   "cell_type": "code",
   "execution_count": 7,
   "metadata": {},
   "outputs": [],
   "source": [
    "model = Word2Vec.load(\"word2vec.model\")\n",
    "wv = model.wv"
   ]
  },
  {
   "cell_type": "code",
   "execution_count": 8,
   "metadata": {},
   "outputs": [
    {
     "name": "stdout",
     "output_type": "stream",
     "text": [
      "Without giving too much away, there is a fade to white an hour into the film.\n",
      "True\n"
     ]
    }
   ],
   "source": [
    "for i in range(len(email)):\n",
    "    appreciation = email[i][\"appreciation\"]\n",
    "    print(appreciation)\n",
    "    sentiment = compute_sentiment(appreciation, wv, idf, ml)\n",
    "    print(sentiment)\n",
    "    break"
   ]
  },
  {
   "cell_type": "code",
   "execution_count": 12,
   "metadata": {},
   "outputs": [
    {
     "data": {
      "text/plain": [
       "['without', 'giving', 'much', 'away', 'fade', 'white', 'hour', 'film']"
      ]
     },
     "execution_count": 12,
     "metadata": {},
     "output_type": "execute_result"
    }
   ],
   "source": [
    "appreciation = email[i][\"appreciation\"]\n",
    "tokens = sentence2tokens(appreciation)\n",
    "tokens"
   ]
  },
  {
   "cell_type": "code",
   "execution_count": 21,
   "metadata": {},
   "outputs": [
    {
     "data": {
      "text/plain": [
       "[('terrible', 0.44631943106651306),\n",
       " ('awful', 0.4452797770500183),\n",
       " ('good', 0.41658562421798706),\n",
       " ('horrible', 0.41330885887145996),\n",
       " ('dreadful', 0.3839857578277588),\n",
       " ('okay', 0.3715684413909912),\n",
       " ('poor', 0.35615599155426025),\n",
       " ('dumb', 0.35115286707878113),\n",
       " ('dolls', 0.34781792759895325),\n",
       " ('scary', 0.3412056863307953)]"
      ]
     },
     "execution_count": 21,
     "metadata": {},
     "output_type": "execute_result"
    }
   ],
   "source": [
    "similar = wv.most_similar(positive = [\"bad\"], negative = [tokens[0]])\n",
    "similar"
   ]
  },
  {
   "cell_type": "code",
   "execution_count": 22,
   "metadata": {},
   "outputs": [
    {
     "name": "stdout",
     "output_type": "stream",
     "text": [
      "Without terrible too much away, there is a fade to white an hour into the film.\n"
     ]
    },
    {
     "data": {
      "text/plain": [
       "True"
      ]
     },
     "execution_count": 22,
     "metadata": {},
     "output_type": "execute_result"
    }
   ],
   "source": [
    "new_appreciation = appreciation.replace(tokens[1], similar[0][0])\n",
    "print(new_appreciation)\n",
    "sentiment = compute_sentiment(new_appreciation, wv, idf, ml)\n",
    "sentiment"
   ]
  },
  {
   "cell_type": "code",
   "execution_count": null,
   "metadata": {},
   "outputs": [],
   "source": []
  }
 ],
 "metadata": {
  "kernelspec": {
   "display_name": "Python 3",
   "language": "python",
   "name": "python3"
  },
  "language_info": {
   "codemirror_mode": {
    "name": "ipython",
    "version": 3
   },
   "file_extension": ".py",
   "mimetype": "text/x-python",
   "name": "python",
   "nbconvert_exporter": "python",
   "pygments_lexer": "ipython3",
   "version": "3.9.0"
  }
 },
 "nbformat": 4,
 "nbformat_minor": 4
}
