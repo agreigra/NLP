{
 "cells": [
  {
   "cell_type": "code",
   "execution_count": 1,
   "metadata": {
    "id": "CLezms8rmc_T"
   },
   "outputs": [],
   "source": [
    "%matplotlib inline\n",
    "import matplotlib.pyplot as plt\n",
    "import numpy as np\n",
    "\n",
    "import torch\n",
    "import torch.nn as nn\n",
    "from torchvision import transforms, datasets\n",
    "from torch.utils.data import DataLoader\n",
    "import random\n",
    "from torch.autograd import Variable\n"
   ]
  },
  {
   "cell_type": "code",
   "execution_count": 2,
   "metadata": {},
   "outputs": [],
   "source": [
    "batch_size = 64\n",
    "torch.manual_seed(42)\n",
    "device = torch.device(\"cuda\" if torch.cuda.is_available() else \"cpu\")"
   ]
  },
  {
   "cell_type": "code",
   "execution_count": 3,
   "metadata": {
    "id": "PNlVYGMMm6XU"
   },
   "outputs": [],
   "source": [
    "#difine transforms\n",
    "transform = transforms.Compose([transforms.Resize((28, 28)), transforms.ToTensor(), transforms.Normalize((0.5,), (0.5,))])\n",
    "\n",
    "# define the data loaders\n",
    "data_loader = DataLoader(datasets.MNIST('', train=True, transform=transform),batch_size=batch_size, shuffle=True)"
   ]
  },
  {
   "cell_type": "code",
   "execution_count": 4,
   "metadata": {},
   "outputs": [
    {
     "name": "stdout",
     "output_type": "stream",
     "text": [
      "1\n"
     ]
    },
    {
     "data": {
      "image/png": "[encoded data removed]",
      "text/plain": [
       "<PIL.Image.Image image mode=L size=28x28 at 0x7F9E9844A940>"
      ]
     },
     "execution_count": 4,
     "metadata": {},
     "output_type": "execute_result"
    }
   ],
   "source": [
    "image, classe = random.choice(data_loader.dataset)\n",
    "print(classe)\n",
    "transforms.ToPILImage()(image)"
   ]
  },
  {
   "cell_type": "code",
   "execution_count": 5,
   "metadata": {
    "id": "W8IFXz-_nWZp"
   },
   "outputs": [],
   "source": [
    "class Discriminator(nn.Module):\n",
    "    def __init__(self):\n",
    "        super().__init__()\n",
    "        \n",
    "        self.emb = nn.Embedding(10, 10)\n",
    "        self.model = nn.Sequential(\n",
    "            nn.Linear(794, 1024),\n",
    "            nn.LeakyReLU(0.2, inplace=True),\n",
    "            nn.Dropout(0.3),\n",
    "            nn.Linear(1024, 512),\n",
    "            nn.LeakyReLU(0.2, inplace=True),\n",
    "            nn.Dropout(0.3),\n",
    "            nn.Linear(512, 256),\n",
    "            nn.LeakyReLU(0.2, inplace=True),\n",
    "            nn.Dropout(0.3),\n",
    "            nn.Linear(256, 1),\n",
    "            nn.Sigmoid()\n",
    "        )\n",
    "    \n",
    "    def forward(self, x, labels):\n",
    "        x = x.view(x.size(0), 784)\n",
    "        c = self.emb(labels)\n",
    "        x = torch.cat([x, c], 1)\n",
    "        out = self.model(x)\n",
    "        return out.squeeze()"
   ]
  },
  {
   "cell_type": "code",
   "execution_count": 6,
   "metadata": {
    "id": "GW-iTV4inWb3"
   },
   "outputs": [],
   "source": [
    "class Generator(nn.Module):\n",
    "    def __init__(self):\n",
    "        super().__init__()\n",
    "        \n",
    "        self.label_emb = nn.Embedding(10, 10)\n",
    "        \n",
    "        self.model = nn.Sequential(\n",
    "            nn.Linear(110, 256),\n",
    "            nn.LeakyReLU(0.2, inplace=True),\n",
    "            nn.Linear(256, 512),\n",
    "            nn.LeakyReLU(0.2, inplace=True),\n",
    "            nn.Linear(512, 1024),\n",
    "            nn.LeakyReLU(0.2, inplace=True),\n",
    "            nn.Linear(1024, 784),\n",
    "            nn.Tanh()\n",
    "        )\n",
    "    \n",
    "    def forward(self, z, labels):\n",
    "        z = z.view(z.size(0), 100)\n",
    "        c = self.label_emb(labels)\n",
    "        x = torch.cat([z, c], 1)\n",
    "        out = self.model(x)\n",
    "        return out.view(x.size(0), 28, 28)"
   ]
  },
  {
   "cell_type": "code",
   "execution_count": 7,
   "metadata": {},
   "outputs": [],
   "source": [
    "def noise(batch_size):\n",
    "    z = Variable(torch.randn(batch_size, 100))\n",
    "    fake_labels = Variable(torch.LongTensor(np.random.randint(0, 10, batch_size)))\n",
    "    return z, fake_labels"
   ]
  },
  {
   "cell_type": "code",
   "execution_count": 8,
   "metadata": {
    "colab": {
     "background_save": true
    },
    "id": "clzCnmksnWej"
   },
   "outputs": [],
   "source": [
    "generator = Generator().to(device)\n",
    "discriminator = Discriminator().to(device)"
   ]
  },
  {
   "cell_type": "code",
   "execution_count": 9,
   "metadata": {
    "executionInfo": {
     "elapsed": 1684,
     "status": "ok",
     "timestamp": 1609261549755,
     "user": {
      "displayName": "MEHDI HALA",
      "photoUrl": "https://lh3.googleusercontent.com/a-/AOh14GhGTxBo2JbHFCoz7gIMNGuR5R5Ix6WmB2V3bmj5nQ=s64",
      "userId": "01651645929314917066"
     },
     "user_tz": -60
    },
    "id": "oR-Kc2uznWhF"
   },
   "outputs": [],
   "source": [
    "# Loss function\n",
    "criterion = nn.BCELoss()\n",
    "\n",
    "# Optimizers\n",
    "d_optimizer = torch.optim.Adam(discriminator.parameters(), lr=1e-4)\n",
    "g_optimizer = torch.optim.Adam(generator.parameters(), lr=1e-4)"
   ]
  },
  {
   "cell_type": "code",
   "execution_count": 10,
   "metadata": {
    "executionInfo": {
     "elapsed": 1177,
     "status": "ok",
     "timestamp": 1609261555894,
     "user": {
      "displayName": "MEHDI HALA",
      "photoUrl": "https://lh3.googleusercontent.com/a-/AOh14GhGTxBo2JbHFCoz7gIMNGuR5R5Ix6WmB2V3bmj5nQ=s64",
      "userId": "01651645929314917066"
     },
     "user_tz": -60
    },
    "id": "gFFL62FgnWmB"
   },
   "outputs": [],
   "source": [
    "def generator_train_step(batch_size, discriminator, generator, g_optimizer, criterion):\n",
    "    g_optimizer.zero_grad()\n",
    "    z, fake_labels = noise(batch_size)\n",
    "    z = z.to(device)\n",
    "    fake_labels = fake_labels.to(device)\n",
    "    fake_images = generator(z, fake_labels)\n",
    "    validity = discriminator(fake_images, fake_labels)\n",
    "    g_loss = criterion(validity, Variable(torch.ones(batch_size)).to(device))\n",
    "    g_loss.backward()\n",
    "    g_optimizer.step()\n",
    "    return g_loss.item()"
   ]
  },
  {
   "cell_type": "code",
   "execution_count": 11,
   "metadata": {
    "executionInfo": {
     "elapsed": 1676,
     "status": "ok",
     "timestamp": 1609261558969,
     "user": {
      "displayName": "MEHDI HALA",
      "photoUrl": "https://lh3.googleusercontent.com/a-/AOh14GhGTxBo2JbHFCoz7gIMNGuR5R5Ix6WmB2V3bmj5nQ=s64",
      "userId": "01651645929314917066"
     },
     "user_tz": -60
    },
    "id": "NA-m6dbonWo7"
   },
   "outputs": [],
   "source": [
    "def discriminator_train_step(batch_size, discriminator, generator, d_optimizer, criterion, real_images, labels):\n",
    "    d_optimizer.zero_grad()\n",
    "\n",
    "    real_validity = discriminator(real_images, labels)\n",
    "    real_loss = criterion(real_validity, Variable(torch.ones(batch_size)).to(device))\n",
    "    \n",
    "    z, fake_labels = noise(batch_size)\n",
    "    z = z.to(device)\n",
    "    fake_labels = fake_labels.to(device)\n",
    "    fake_images = generator(z, fake_labels)\n",
    "    fake_validity = discriminator(fake_images, fake_labels)\n",
    "    fake_loss = criterion(fake_validity, Variable(torch.zeros(batch_size)).to(device))\n",
    "    \n",
    "    d_loss = real_loss + fake_loss\n",
    "    d_loss.backward()\n",
    "    d_optimizer.step()\n",
    "    return d_loss.item()"
   ]
  },
  {
   "cell_type": "code",
   "execution_count": 12,
   "metadata": {},
   "outputs": [],
   "source": [
    "def show_images(generator, monitoring_noise):\n",
    "    z = monitoring_noise[0].to(device)\n",
    "    labels = monitoring_noise[1].to(device)\n",
    "    with torch.no_grad():\n",
    "        monitoring_generated_images = generator(z, labels).to(\"cpu\")\n",
    "    for image in monitoring_generated_images:\n",
    "        \n",
    "        display(transforms.ToPILImage()(image))"
   ]
  },
  {
   "cell_type": "code",
   "execution_count": 13,
   "metadata": {},
   "outputs": [],
   "source": [
    "# generate a noise to monitor the model improvement\n",
    "monitoring_noise = noise(5)"
   ]
  },
  {
   "cell_type": "code",
   "execution_count": 16,
   "metadata": {},
   "outputs": [
    {
     "name": "stdout",
     "output_type": "stream",
     "text": [
      "Starting epoch 0... discriminator loss: 0.30604757629374685 generator loss: 4.1128123615696435 Done!\n",
      "Epoch 0\n"
     ]
    },
    {
     "data": {
      "image/png": "[encoded data removed]",
      "text/plain": [
       "<PIL.Image.Image image mode=L size=28x28 at 0x7F9DD59DD220>"
      ]
     },
     "metadata": {},
     "output_type": "display_data"
    },
    {
     "data": {
      "image/png": "[encoded data removed]",
      "text/plain": [
       "<PIL.Image.Image image mode=L size=28x28 at 0x7F9D926304C0>"
      ]
     },
     "metadata": {},
     "output_type": "display_data"
    },
    {
     "data": {
      "image/png": "[encoded data removed]",
      "text/plain": [
       "<PIL.Image.Image image mode=L size=28x28 at 0x7F9D92661970>"
      ]
     },
     "metadata": {},
     "output_type": "display_data"
    },
    {
     "data": {
      "image/png": "[encoded data removed]",
      "text/plain": [
       "<PIL.Image.Image image mode=L size=28x28 at 0x7F9D926305E0>"
      ]
     },
     "metadata": {},
     "output_type": "display_data"
    },
    {
     "data": {
      "image/png": "[encoded data removed]",
      "text/plain": [
       "<PIL.Image.Image image mode=L size=28x28 at 0x7F9DD59DD220>"
      ]
     },
     "metadata": {},
     "output_type": "display_data"
    },
    {
     "name": "stdout",
     "output_type": "stream",
     "text": [
      "Starting epoch 1... discriminator loss: 0.3441344565267624 generator loss: 3.956169777771452 Done!\n",
      "Starting epoch 2... discriminator loss: 0.365717915048785 generator loss: 3.6946696965391634 Done!\n",
      "Starting epoch 3... discriminator loss: 0.3943603440260429 generator loss: 3.547191303720342 Done!\n",
      "Starting epoch 4... discriminator loss: 0.4824022511089879 generator loss: 3.1559659984348425 Done!\n",
      "Starting epoch 5... discriminator loss: 0.513792467775696 generator loss: 2.8123711448087256 Done!\n",
      "Epoch 5\n"
     ]
    },
    {
     "data": {
      "image/png": "[encoded data removed]",
      "text/plain": [
       "<PIL.Image.Image image mode=L size=28x28 at 0x7F9DD59DD220>"
      ]
     },
     "metadata": {},
     "output_type": "display_data"
    },
    {
     "data": {
      "image/png": "[encoded data removed]",
      "text/plain": [
       "<PIL.Image.Image image mode=L size=28x28 at 0x7F9DD59DD310>"
      ]
     },
     "metadata": {},
     "output_type": "display_data"
    },
    {
     "data": {
      "image/png": "[encoded data removed]",
      "text/plain": [
       "<PIL.Image.Image image mode=L size=28x28 at 0x7F9D92661970>"
      ]
     },
     "metadata": {},
     "output_type": "display_data"
    },
    {
     "data": {
      "image/png": "[encoded data removed]",
      "text/plain": [
       "<PIL.Image.Image image mode=L size=28x28 at 0x7F9DD59DD220>"
      ]
     },
     "metadata": {},
     "output_type": "display_data"
    },
    {
     "data": {
      "image/png": "[encoded data removed]",
      "text/plain": [
       "<PIL.Image.Image image mode=L size=28x28 at 0x7F9DD59DD310>"
      ]
     },
     "metadata": {},
     "output_type": "display_data"
    },
    {
     "name": "stdout",
     "output_type": "stream",
     "text": [
      "Starting epoch 6... discriminator loss: 0.532764052679979 generator loss: 2.7766286184337376 Done!\n",
      "Starting epoch 7... discriminator loss: 0.5493534779535922 generator loss: 2.7524402038519256 Done!\n",
      "Starting epoch 8... discriminator loss: 0.5904196513500641 generator loss: 2.5761169285504515 Done!\n",
      "Starting epoch 9... discriminator loss: 0.6392463743368615 generator loss: 2.407691645647698 Done!\n",
      "Starting epoch 10... discriminator loss: 0.7094247475377778 generator loss: 2.1689629112007522 Done!\n",
      "Epoch 10\n"
     ]
    },
    {
     "data": {
      "image/png": "[encoded data removed]",
      "text/plain": [
       "<PIL.Image.Image image mode=L size=28x28 at 0x7F9D92642C70>"
      ]
     },
     "metadata": {},
     "output_type": "display_data"
    },
    {
     "data": {
      "image/png": "[encoded data removed]",
      "text/plain": [
       "<PIL.Image.Image image mode=L size=28x28 at 0x7F9D926304C0>"
      ]
     },
     "metadata": {},
     "output_type": "display_data"
    },
    {
     "data": {
      "image/png": "[encoded data removed]",
      "text/plain": [
       "<PIL.Image.Image image mode=L size=28x28 at 0x7F9D926305E0>"
      ]
     },
     "metadata": {},
     "output_type": "display_data"
    },
    {
     "data": {
      "image/png": "[encoded data removed]",
      "text/plain": [
       "<PIL.Image.Image image mode=L size=28x28 at 0x7F9D926304C0>"
      ]
     },
     "metadata": {},
     "output_type": "display_data"
    },
    {
     "data": {
      "image/png": "[encoded data removed]",
      "text/plain": [
       "<PIL.Image.Image image mode=L size=28x28 at 0x7F9D92630490>"
      ]
     },
     "metadata": {},
     "output_type": "display_data"
    },
    {
     "name": "stdout",
     "output_type": "stream",
     "text": [
      "Starting epoch 11... discriminator loss: 0.7161479078972735 generator loss: 2.1320947051175505 Done!\n",
      "Starting epoch 12... discriminator loss: 0.7318683895446447 generator loss: 2.066334228759896 Done!\n",
      "Starting epoch 13... discriminator loss: 0.7928781764166333 generator loss: 1.951635192908752 Done!\n",
      "Starting epoch 14... discriminator loss: 0.8291129821965127 generator loss: 1.811254266104805 Done!\n",
      "Starting epoch 15... discriminator loss: 0.8211556369619665 generator loss: 1.8278918628249885 Done!\n",
      "Epoch 15\n"
     ]
    },
    {
     "data": {
      "image/png": "[encoded data removed]",
      "text/plain": [
       "<PIL.Image.Image image mode=L size=28x28 at 0x7F9D92642FA0>"
      ]
     },
     "metadata": {},
     "output_type": "display_data"
    },
    {
     "data": {
      "image/png": "[encoded data removed]",
      "text/plain": [
       "<PIL.Image.Image image mode=L size=28x28 at 0x7F9D92642D90>"
      ]
     },
     "metadata": {},
     "output_type": "display_data"
    },
    {
     "data": {
      "image/png": "[encoded data removed]",
      "text/plain": [
       "<PIL.Image.Image image mode=L size=28x28 at 0x7F9D945B8A90>"
      ]
     },
     "metadata": {},
     "output_type": "display_data"
    },
    {
     "data": {
      "image/png": "[encoded data removed]",
      "text/plain": [
       "<PIL.Image.Image image mode=L size=28x28 at 0x7F9DD59DD220>"
      ]
     },
     "metadata": {},
     "output_type": "display_data"
    },
    {
     "data": {
      "image/png": "[encoded data removed]",
      "text/plain": [
       "<PIL.Image.Image image mode=L size=28x28 at 0x7F9DD59DD310>"
      ]
     },
     "metadata": {},
     "output_type": "display_data"
    },
    {
     "name": "stdout",
     "output_type": "stream",
     "text": [
      "Starting epoch 16... discriminator loss: 0.8446178108676393 generator loss: 1.7705379788114777 Done!\n",
      "Starting epoch 17... discriminator loss: 0.8864555340439176 generator loss: 1.6793252454241667 Done!\n",
      "Starting epoch 18... discriminator loss: 0.9052197644397568 generator loss: 1.6577671253566681 Done!\n",
      "Starting epoch 19... discriminator loss: 0.9282252354072278 generator loss: 1.5671119372516458 Done!\n",
      "Starting epoch 20... discriminator loss: 0.9432892349639086 generator loss: 1.553966688244676 Done!\n",
      "Epoch 20\n"
     ]
    },
    {
     "data": {
      "image/png": "[encoded data removed]",
      "text/plain": [
       "<PIL.Image.Image image mode=L size=28x28 at 0x7F9D926428B0>"
      ]
     },
     "metadata": {},
     "output_type": "display_data"
    },
    {
     "data": {
      "image/png": "[encoded data removed]",
      "text/plain": [
       "<PIL.Image.Image image mode=L size=28x28 at 0x7F9E9844A850>"
      ]
     },
     "metadata": {},
     "output_type": "display_data"
    },
    {
     "data": {
      "image/png": "[encoded data removed]",
      "text/plain": [
       "<PIL.Image.Image image mode=L size=28x28 at 0x7F9D92642FA0>"
      ]
     },
     "metadata": {},
     "output_type": "display_data"
    },
    {
     "data": {
      "image/png": "[encoded data removed]",
      "text/plain": [
       "<PIL.Image.Image image mode=L size=28x28 at 0x7F9D92661970>"
      ]
     },
     "metadata": {},
     "output_type": "display_data"
    },
    {
     "data": {
      "image/png": "[encoded data removed]",
      "text/plain": [
       "<PIL.Image.Image image mode=L size=28x28 at 0x7F9D926428B0>"
      ]
     },
     "metadata": {},
     "output_type": "display_data"
    },
    {
     "name": "stdout",
     "output_type": "stream",
     "text": [
      "Starting epoch 21... discriminator loss: 0.9497053551317661 generator loss: 1.5164368713042016 Done!\n",
      "Starting epoch 22... discriminator loss: 0.9700393045088525 generator loss: 1.488413073209968 Done!\n",
      "Starting epoch 23... discriminator loss: 1.0137497420117594 generator loss: 1.3884674843118439 Done!\n",
      "Starting epoch 24... discriminator loss: 1.0266279251242143 generator loss: 1.3774895118420254 Done!\n",
      "Starting epoch 25... discriminator loss: 1.035048488618979 generator loss: 1.3427224696763933 Done!\n",
      "Epoch 25\n"
     ]
    },
    {
     "data": {
      "image/png": "[encoded data removed]",
      "text/plain": [
       "<PIL.Image.Image image mode=L size=28x28 at 0x7F9D92642D90>"
      ]
     },
     "metadata": {},
     "output_type": "display_data"
    },
    {
     "data": {
      "image/png": "[encoded data removed]",
      "text/plain": [
       "<PIL.Image.Image image mode=L size=28x28 at 0x7F9D92642FA0>"
      ]
     },
     "metadata": {},
     "output_type": "display_data"
    },
    {
     "data": {
      "image/png": "[encoded data removed]",
      "text/plain": [
       "<PIL.Image.Image image mode=L size=28x28 at 0x7F9D92661970>"
      ]
     },
     "metadata": {},
     "output_type": "display_data"
    },
    {
     "data": {
      "image/png": "[encoded data removed]",
      "text/plain": [
       "<PIL.Image.Image image mode=L size=28x28 at 0x7F9D926304C0>"
      ]
     },
     "metadata": {},
     "output_type": "display_data"
    },
    {
     "data": {
      "image/png": "[encoded data removed]",
      "text/plain": [
       "<PIL.Image.Image image mode=L size=28x28 at 0x7F9E9844A850>"
      ]
     },
     "metadata": {},
     "output_type": "display_data"
    },
    {
     "name": "stdout",
     "output_type": "stream",
     "text": [
      "Starting epoch 26... discriminator loss: 1.0365149334884123 generator loss: 1.3466083101427289 Done!\n",
      "Starting epoch 27... discriminator loss: 1.0592332648365832 generator loss: 1.2791835645983034 Done!\n",
      "Starting epoch 28... discriminator loss: 1.096849135108284 generator loss: 1.22836395770534 Done!\n",
      "Starting epoch 29... discriminator loss: 1.098580274154435 generator loss: 1.2101796308856383 Done!\n",
      "Starting epoch 30... discriminator loss: 1.1140131551529835 generator loss: 1.1914240563310197 Done!\n",
      "Epoch 30\n"
     ]
    },
    {
     "data": {
      "image/png": "[encoded data removed]",
      "text/plain": [
       "<PIL.Image.Image image mode=L size=28x28 at 0x7F9D926428B0>"
      ]
     },
     "metadata": {},
     "output_type": "display_data"
    },
    {
     "data": {
      "image/png": "[encoded data removed]",
      "text/plain": [
       "<PIL.Image.Image image mode=L size=28x28 at 0x7F9D92642FA0>"
      ]
     },
     "metadata": {},
     "output_type": "display_data"
    },
    {
     "data": {
      "image/png": "[encoded data removed]",
      "text/plain": [
       "<PIL.Image.Image image mode=L size=28x28 at 0x7F9D92642460>"
      ]
     },
     "metadata": {},
     "output_type": "display_data"
    },
    {
     "data": {
      "image/png": "[encoded data removed]",
      "text/plain": [
       "<PIL.Image.Image image mode=L size=28x28 at 0x7F9D92642C70>"
      ]
     },
     "metadata": {},
     "output_type": "display_data"
    },
    {
     "data": {
      "image/png": "[encoded data removed]",
      "text/plain": [
       "<PIL.Image.Image image mode=L size=28x28 at 0x7F9D926428B0>"
      ]
     },
     "metadata": {},
     "output_type": "display_data"
    },
    {
     "name": "stdout",
     "output_type": "stream",
     "text": [
      "Starting epoch 31... discriminator loss: 1.1220676525552602 generator loss: 1.166844158378711 Done!\n",
      "Starting epoch 32... discriminator loss: 1.1275227298222585 generator loss: 1.1781506428341983 Done!\n",
      "Starting epoch 33... discriminator loss: 1.1377334215597765 generator loss: 1.1298797596226124 Done!\n",
      "Starting epoch 34... discriminator loss: 1.145903375767084 generator loss: 1.130282857692865 Done!\n",
      "Starting epoch 35... discriminator loss: 1.1509500427078156 generator loss: 1.1003656508192308 Done!\n",
      "Epoch 35\n"
     ]
    },
    {
     "data": {
      "image/png": "[encoded data removed]",
      "text/plain": [
       "<PIL.Image.Image image mode=L size=28x28 at 0x7F9D92642A00>"
      ]
     },
     "metadata": {},
     "output_type": "display_data"
    },
    {
     "data": {
      "image/png": "[encoded data removed]",
      "text/plain": [
       "<PIL.Image.Image image mode=L size=28x28 at 0x7F9DD59DD310>"
      ]
     },
     "metadata": {},
     "output_type": "display_data"
    },
    {
     "data": {
      "image/png": "[encoded data removed]",
      "text/plain": [
       "<PIL.Image.Image image mode=L size=28x28 at 0x7F9D926305E0>"
      ]
     },
     "metadata": {},
     "output_type": "display_data"
    },
    {
     "data": {
      "image/png": "[encoded data removed]",
      "text/plain": [
       "<PIL.Image.Image image mode=L size=28x28 at 0x7F9DD59DD220>"
      ]
     },
     "metadata": {},
     "output_type": "display_data"
    },
    {
     "data": {
      "image/png": "[encoded data removed]",
      "text/plain": [
       "<PIL.Image.Image image mode=L size=28x28 at 0x7F9D926304C0>"
      ]
     },
     "metadata": {},
     "output_type": "display_data"
    },
    {
     "name": "stdout",
     "output_type": "stream",
     "text": [
      "Starting epoch 36... discriminator loss: 1.1585960825835628 generator loss: 1.1168837035223922 Done!\n",
      "Starting epoch 37... discriminator loss: 1.1654976507770087 generator loss: 1.076880881091701 Done!\n",
      "Starting epoch 38... discriminator loss: 1.1734165562000702 generator loss: 1.092282808895681 Done!\n",
      "Starting epoch 39... discriminator loss: 1.165546788858884 generator loss: 1.0735771820792013 Done!\n",
      "Starting epoch 40... discriminator loss: 1.1844442009671394 generator loss: 1.0499478204527686 Done!\n",
      "Epoch 40\n"
     ]
    },
    {
     "data": {
      "image/png": "[encoded data removed]",
      "text/plain": [
       "<PIL.Image.Image image mode=L size=28x28 at 0x7F9D926424C0>"
      ]
     },
     "metadata": {},
     "output_type": "display_data"
    },
    {
     "data": {
      "image/png": "[encoded data removed]",
      "text/plain": [
       "<PIL.Image.Image image mode=L size=28x28 at 0x7F9D92630490>"
      ]
     },
     "metadata": {},
     "output_type": "display_data"
    },
    {
     "data": {
      "image/png": "[encoded data removed]",
      "text/plain": [
       "<PIL.Image.Image image mode=L size=28x28 at 0x7F9E9844A850>"
      ]
     },
     "metadata": {},
     "output_type": "display_data"
    },
    {
     "data": {
      "image/png": "[encoded data removed]",
      "text/plain": [
       "<PIL.Image.Image image mode=L size=28x28 at 0x7F9D945B8A90>"
      ]
     },
     "metadata": {},
     "output_type": "display_data"
    },
    {
     "data": {
      "image/png": "[encoded data removed]",
      "text/plain": [
       "<PIL.Image.Image image mode=L size=28x28 at 0x7F9D926305E0>"
      ]
     },
     "metadata": {},
     "output_type": "display_data"
    },
    {
     "name": "stdout",
     "output_type": "stream",
     "text": [
      "Starting epoch 41... discriminator loss: 1.186283269012496 generator loss: 1.0508459741557803 Done!\n",
      "Starting epoch 42... discriminator loss: 1.1927035805255397 generator loss: 1.034419039524734 Done!\n",
      "Starting epoch 43... discriminator loss: 1.2017226532785463 generator loss: 1.0147777706098404 Done!\n",
      "Starting epoch 44... discriminator loss: 1.203386860634245 generator loss: 1.0166457383838763 Done!\n",
      "Starting epoch 45... discriminator loss: 1.2070118106162153 generator loss: 1.0019309074799814 Done!\n",
      "Epoch 45\n"
     ]
    },
    {
     "data": {
      "image/png": "[encoded data removed]",
      "text/plain": [
       "<PIL.Image.Image image mode=L size=28x28 at 0x7F9D926428B0>"
      ]
     },
     "metadata": {},
     "output_type": "display_data"
    },
    {
     "data": {
      "image/png": "[encoded data removed]",
      "text/plain": [
       "<PIL.Image.Image image mode=L size=28x28 at 0x7F9DD59DD310>"
      ]
     },
     "metadata": {},
     "output_type": "display_data"
    },
    {
     "data": {
      "image/png": "[encoded data removed]",
      "text/plain": [
       "<PIL.Image.Image image mode=L size=28x28 at 0x7F9D926428B0>"
      ]
     },
     "metadata": {},
     "output_type": "display_data"
    },
    {
     "data": {
      "image/png": "[encoded data removed]",
      "text/plain": [
       "<PIL.Image.Image image mode=L size=28x28 at 0x7F9D926424C0>"
      ]
     },
     "metadata": {},
     "output_type": "display_data"
    },
    {
     "data": {
      "image/png": "[encoded data removed]",
      "text/plain": [
       "<PIL.Image.Image image mode=L size=28x28 at 0x7F9D92642460>"
      ]
     },
     "metadata": {},
     "output_type": "display_data"
    },
    {
     "name": "stdout",
     "output_type": "stream",
     "text": [
      "Starting epoch 46... discriminator loss: 1.2137779019049417 generator loss: 0.9994136694910177 Done!\n",
      "Starting epoch 47... discriminator loss: 1.2292361633500268 generator loss: 0.9644948824874365 Done!\n",
      "Starting epoch 48... discriminator loss: 1.2241346857082118 generator loss: 0.9774186503034773 Done!\n",
      "Starting epoch 49... discriminator loss: 1.2334266380668322 generator loss: 0.960406414218239 Done!\n",
      "Starting epoch 50... discriminator loss: 1.2287280868695156 generator loss: 0.9764159734628244 Done!\n",
      "Epoch 50\n"
     ]
    },
    {
     "data": {
      "image/png": "[encoded data removed]",
      "text/plain": [
       "<PIL.Image.Image image mode=L size=28x28 at 0x7F9D92642A00>"
      ]
     },
     "metadata": {},
     "output_type": "display_data"
    },
    {
     "data": {
      "image/png": "[encoded data removed]",
      "text/plain": [
       "<PIL.Image.Image image mode=L size=28x28 at 0x7F9D92642A00>"
      ]
     },
     "metadata": {},
     "output_type": "display_data"
    },
    {
     "data": {
      "image/png": "[encoded data removed]",
      "text/plain": [
       "<PIL.Image.Image image mode=L size=28x28 at 0x7F9D92642A00>"
      ]
     },
     "metadata": {},
     "output_type": "display_data"
    },
    {
     "data": {
      "image/png": "[encoded data removed]",
      "text/plain": [
       "<PIL.Image.Image image mode=L size=28x28 at 0x7F9D92642A00>"
      ]
     },
     "metadata": {},
     "output_type": "display_data"
    },
    {
     "data": {
      "image/png": "[encoded data removed]",
      "text/plain": [
       "<PIL.Image.Image image mode=L size=28x28 at 0x7F9D926424C0>"
      ]
     },
     "metadata": {},
     "output_type": "display_data"
    },
    {
     "name": "stdout",
     "output_type": "stream",
     "text": [
      "Starting epoch 51... discriminator loss: 1.2337273151286765 generator loss: 0.9566594173966757 Done!\n",
      "Starting epoch 52... discriminator loss: 1.2357296873691115 generator loss: 0.9599850105883091 Done!\n",
      "Starting epoch 53... discriminator loss: 1.2420801335236051 generator loss: 0.9509521182089757 Done!\n",
      "Starting epoch 54... discriminator loss: 1.2470293779128898 generator loss: 0.9336983451466677 Done!\n",
      "Starting epoch 55... discriminator loss: 1.2444845156837554 generator loss: 0.9389623477975485 Done!\n",
      "Epoch 55\n"
     ]
    },
    {
     "data": {
      "image/png": "[encoded data removed]",
      "text/plain": [
       "<PIL.Image.Image image mode=L size=28x28 at 0x7F9D92642460>"
      ]
     },
     "metadata": {},
     "output_type": "display_data"
    },
    {
     "data": {
      "image/png": "[encoded data removed]",
      "text/plain": [
       "<PIL.Image.Image image mode=L size=28x28 at 0x7F9D926305E0>"
      ]
     },
     "metadata": {},
     "output_type": "display_data"
    },
    {
     "data": {
      "image/png": "[encoded data removed]",
      "text/plain": [
       "<PIL.Image.Image image mode=L size=28x28 at 0x7F9D92642460>"
      ]
     },
     "metadata": {},
     "output_type": "display_data"
    },
    {
     "data": {
      "image/png": "[encoded data removed]",
      "text/plain": [
       "<PIL.Image.Image image mode=L size=28x28 at 0x7F9D926428B0>"
      ]
     },
     "metadata": {},
     "output_type": "display_data"
    },
    {
     "data": {
      "image/png": "[encoded data removed]",
      "text/plain": [
       "<PIL.Image.Image image mode=L size=28x28 at 0x7F9D92630490>"
      ]
     },
     "metadata": {},
     "output_type": "display_data"
    },
    {
     "name": "stdout",
     "output_type": "stream",
     "text": [
      "Starting epoch 56... discriminator loss: 1.2459500511529733 generator loss: 0.9393814695937402 Done!\n",
      "Starting epoch 57... discriminator loss: 1.2480181456884427 generator loss: 0.9364114125739295 Done!\n",
      "Starting epoch 58... discriminator loss: 1.2605273363557161 generator loss: 0.9189609214106899 Done!\n",
      "Starting epoch 59... discriminator loss: 1.2509976685237987 generator loss: 0.9318582841146463 Done!\n",
      "Starting epoch 60... discriminator loss: 1.2511244003393607 generator loss: 0.9318287103509445 Done!\n",
      "Epoch 60\n"
     ]
    },
    {
     "data": {
      "image/png": "[encoded data removed]",
      "text/plain": [
       "<PIL.Image.Image image mode=L size=28x28 at 0x7F9D92642C70>"
      ]
     },
     "metadata": {},
     "output_type": "display_data"
    },
    {
     "data": {
      "image/png": "[encoded data removed]",
      "text/plain": [
       "<PIL.Image.Image image mode=L size=28x28 at 0x7F9DD59DD310>"
      ]
     },
     "metadata": {},
     "output_type": "display_data"
    },
    {
     "data": {
      "image/png": "[encoded data removed]",
      "text/plain": [
       "<PIL.Image.Image image mode=L size=28x28 at 0x7F9D92642FA0>"
      ]
     },
     "metadata": {},
     "output_type": "display_data"
    },
    {
     "data": {
      "image/png": "[encoded data removed]",
      "text/plain": [
       "<PIL.Image.Image image mode=L size=28x28 at 0x7F9D92642A00>"
      ]
     },
     "metadata": {},
     "output_type": "display_data"
    },
    {
     "data": {
      "image/png": "[encoded data removed]",
      "text/plain": [
       "<PIL.Image.Image image mode=L size=28x28 at 0x7F9D92642460>"
      ]
     },
     "metadata": {},
     "output_type": "display_data"
    },
    {
     "name": "stdout",
     "output_type": "stream",
     "text": [
      "Starting epoch 61... discriminator loss: 1.2648524403444859 generator loss: 0.911954634472044 Done!\n",
      "Starting epoch 62... discriminator loss: 1.2614371425441389 generator loss: 0.9091419176841622 Done!\n",
      "Starting epoch 63... discriminator loss: 1.2626933342873605 generator loss: 0.9141807720271856 Done!\n",
      "Starting epoch 64... discriminator loss: 1.2684103789935117 generator loss: 0.8958058921479111 Done!\n",
      "Starting epoch 65... discriminator loss: 1.2792518418779242 generator loss: 0.8805185714806156 Done!\n",
      "Epoch 65\n"
     ]
    },
    {
     "data": {
      "image/png": "[encoded data removed]",
      "text/plain": [
       "<PIL.Image.Image image mode=L size=28x28 at 0x7F9D926428B0>"
      ]
     },
     "metadata": {},
     "output_type": "display_data"
    },
    {
     "data": {
      "image/png": "[encoded data removed]",
      "text/plain": [
       "<PIL.Image.Image image mode=L size=28x28 at 0x7F9D945B8A90>"
      ]
     },
     "metadata": {},
     "output_type": "display_data"
    },
    {
     "data": {
      "image/png": "[encoded data removed]",
      "text/plain": [
       "<PIL.Image.Image image mode=L size=28x28 at 0x7F9D926305E0>"
      ]
     },
     "metadata": {},
     "output_type": "display_data"
    },
    {
     "data": {
      "image/png": "[encoded data removed]",
      "text/plain": [
       "<PIL.Image.Image image mode=L size=28x28 at 0x7F9E9844A850>"
      ]
     },
     "metadata": {},
     "output_type": "display_data"
    },
    {
     "data": {
      "image/png": "[encoded data removed]",
      "text/plain": [
       "<PIL.Image.Image image mode=L size=28x28 at 0x7F9D926304C0>"
      ]
     },
     "metadata": {},
     "output_type": "display_data"
    },
    {
     "name": "stdout",
     "output_type": "stream",
     "text": [
      "Starting epoch 66... discriminator loss: 1.2792000930871628 generator loss: 0.8923932325369266 Done!\n",
      "Starting epoch 67... discriminator loss: 1.269613687867416 generator loss: 0.9014686767166936 Done!\n",
      "Starting epoch 68... discriminator loss: 1.2776701932528485 generator loss: 0.8932802735677778 Done!\n",
      "Starting epoch 69... discriminator loss: 1.2782498893259429 generator loss: 0.8854516302508758 Done!\n",
      "training is complete\n"
     ]
    }
   ],
   "source": [
    "num_epochs = 70\n",
    "history = {\"d_loss\":[], \"g_loss\":[]}\n",
    "for epoch in range(num_epochs):\n",
    "    d_loss = 0\n",
    "    g_loss = 0\n",
    "    print('Starting epoch {}...'.format(epoch), end=' ')\n",
    "    for i, (images, labels) in enumerate(data_loader):\n",
    "        \n",
    "        \n",
    "        real_images = Variable(images).to(device)\n",
    "        labels = Variable(labels).to(device)\n",
    "        generator.train()\n",
    "        \n",
    "        d_loss += discriminator_train_step(len(real_images), discriminator, generator, d_optimizer, criterion, real_images, labels)\n",
    "        g_loss += generator_train_step(batch_size, discriminator, generator, g_optimizer, criterion)\n",
    "        \n",
    "        \n",
    "    history[\"d_loss\"].append(d_loss/i)\n",
    "    history[\"g_loss\"].append(g_loss/i)\n",
    "    print('discriminator loss: {}'.format(d_loss/i), end=' ')\n",
    "    print('generator loss: {}'.format(g_loss/i), end=' ')\n",
    "    print('Done!')\n",
    "    if epoch % 5 == 0:\n",
    "        print(f\"Epoch {epoch}\")\n",
    "        show_images(generator, monitoring_noise)\n",
    "print(\"training is complete\")"
   ]
  },
  {
   "cell_type": "code",
   "execution_count": 17,
   "metadata": {},
   "outputs": [
    {
     "data": {
      "image/png": "[encoded data removed]",
      "text/plain": [
       "<Figure size 432x288 with 1 Axes>"
      ]
     },
     "metadata": {
      "needs_background": "light"
     },
     "output_type": "display_data"
    }
   ],
   "source": [
    "#plot loss\n",
    "plt.figure()\n",
    "plt.plot(history[\"g_loss\"], label='Generator loss')\n",
    "plt.plot(history[\"d_loss\"], label='Discriminator loss')\n",
    "plt.legend()\n",
    "plt.savefig('loss1.png')\n",
    "plt.show()"
   ]
  },
  {
   "cell_type": "code",
   "execution_count": 18,
   "metadata": {
    "executionInfo": {
     "elapsed": 1149,
     "status": "ok",
     "timestamp": 1609263063140,
     "user": {
      "displayName": "MEHDI HALA",
      "photoUrl": "https://lh3.googleusercontent.com/a-/AOh14GhGTxBo2JbHFCoz7gIMNGuR5R5Ix6WmB2V3bmj5nQ=s64",
      "userId": "01651645929314917066"
     },
     "user_tz": -60
    },
    "id": "3s8dwBj_pGMs"
   },
   "outputs": [],
   "source": [
    "torch.save(generator.state_dict(), 'mnist_generatorLast.pt')"
   ]
  }
 ],
 "metadata": {
  "accelerator": "GPU",
  "colab": {
   "collapsed_sections": [],
   "name": "digits_generation.ipynb",
   "provenance": []
  },
  "kernelspec": {
   "display_name": "Python 3",
   "language": "python",
   "name": "python3"
  },
  "language_info": {
   "codemirror_mode": {
    "name": "ipython",
    "version": 3
   },
   "file_extension": ".py",
   "mimetype": "text/x-python",
   "name": "python",
   "nbconvert_exporter": "python",
   "pygments_lexer": "ipython3",
   "version": "3.9.0"
  }
 },
 "nbformat": 4,
 "nbformat_minor": 4
}
